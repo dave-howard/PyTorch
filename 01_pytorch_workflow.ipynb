{
  "nbformat": 4,
  "nbformat_minor": 0,
  "metadata": {
    "colab": {
      "provenance": [],
      "gpuType": "T4",
      "authorship_tag": "ABX9TyMKq7qlWtH4pFnw9um18iLy",
      "include_colab_link": true
    },
    "kernelspec": {
      "name": "python3",
      "display_name": "Python 3"
    },
    "language_info": {
      "name": "python"
    },
    "accelerator": "GPU"
  },
  "cells": [
    {
      "cell_type": "markdown",
      "metadata": {
        "id": "view-in-github",
        "colab_type": "text"
      },
      "source": [
        "<a href=\"https://colab.research.google.com/github/dave-howard/PyTorch/blob/main/01_pytorch_workflow.ipynb\" target=\"_parent\"><img src=\"https://colab.research.google.com/assets/colab-badge.svg\" alt=\"Open In Colab\"/></a>"
      ]
    },
    {
      "cell_type": "code",
      "execution_count": 62,
      "metadata": {
        "id": "_pEpD_4sH4j4"
      },
      "outputs": [],
      "source": []
    },
    {
      "cell_type": "code",
      "source": [
        "what_were_covering = {\n",
        "    1: \"data (prepare and load)\",\n",
        "    2: \"build model\",\n",
        "    3: \"fitting the model to data (training)\",\n",
        "    4: \"making predictions and evaluating a model (inference)\",\n",
        "    5: \"saving and loading a model\",\n",
        "    6: \"putting it all together\"\n",
        "}"
      ],
      "metadata": {
        "id": "P6jW0wpUIMOk"
      },
      "execution_count": 63,
      "outputs": []
    },
    {
      "cell_type": "code",
      "source": [
        "import torch\n",
        "from torch import nn  # neural networks\n",
        "import matplotlib.pyplot as plt\n"
      ],
      "metadata": {
        "id": "y33zf5pvKnbC"
      },
      "execution_count": 64,
      "outputs": []
    },
    {
      "cell_type": "code",
      "source": [
        "torch.__version__"
      ],
      "metadata": {
        "colab": {
          "base_uri": "https://localhost:8080/",
          "height": 36
        },
        "id": "UK3IHspQLPNA",
        "outputId": "2aae0a9a-a8d7-42b7-98d8-40921f36e3b3"
      },
      "execution_count": 65,
      "outputs": [
        {
          "output_type": "execute_result",
          "data": {
            "text/plain": [
              "'2.1.0+cu121'"
            ],
            "application/vnd.google.colaboratory.intrinsic+json": {
              "type": "string"
            }
          },
          "metadata": {},
          "execution_count": 65
        }
      ]
    },
    {
      "cell_type": "markdown",
      "source": [
        "## 1. Data - preparing and loading\n",
        "\n",
        "could be anything\n",
        "- spreadheets\n",
        "- videos\n",
        "- images\n",
        "- text\n",
        "- audio\n",
        "\n",
        "1. get data into numerical format\n",
        "2. build a model to learn patterns in that numerical representation\n",
        "\n",
        "We will use a linear regression formula - to make a stright line with known parameters - i.e. y = a + bx, where we know a and b"
      ],
      "metadata": {
        "id": "dgrtsPZwLVbJ"
      }
    },
    {
      "cell_type": "code",
      "source": [
        "weight = 0.7\n",
        "bias = 0.3\n",
        "start = 0\n",
        "end = 1\n",
        "step = 0.02\n",
        "X = torch.arange(start, end, step).unsqueeze(dim=1) # our input\n",
        "# (unsqueeze to get one cell per row, which we need later)\n",
        "y = pow(X, weight) + bias  # our output\n",
        "X[:10], y[:10]"
      ],
      "metadata": {
        "colab": {
          "base_uri": "https://localhost:8080/"
        },
        "id": "NTfltkVjLpLM",
        "outputId": "b8ab1c1c-1c43-4d9d-a66d-670273ca1d6e"
      },
      "execution_count": 66,
      "outputs": [
        {
          "output_type": "execute_result",
          "data": {
            "text/plain": [
              "(tensor([[0.0000],\n",
              "         [0.0200],\n",
              "         [0.0400],\n",
              "         [0.0600],\n",
              "         [0.0800],\n",
              "         [0.1000],\n",
              "         [0.1200],\n",
              "         [0.1400],\n",
              "         [0.1600],\n",
              "         [0.1800]]),\n",
              " tensor([[0.3000],\n",
              "         [0.3647],\n",
              "         [0.4051],\n",
              "         [0.4395],\n",
              "         [0.4707],\n",
              "         [0.4995],\n",
              "         [0.5267],\n",
              "         [0.5525],\n",
              "         [0.5773],\n",
              "         [0.6011]]))"
            ]
          },
          "metadata": {},
          "execution_count": 66
        }
      ]
    },
    {
      "cell_type": "code",
      "source": [
        "len(X), len(y)"
      ],
      "metadata": {
        "colab": {
          "base_uri": "https://localhost:8080/"
        },
        "id": "t-isdzARN-7K",
        "outputId": "8bd8a726-0d2f-4839-e04b-30a2444213bb"
      },
      "execution_count": 67,
      "outputs": [
        {
          "output_type": "execute_result",
          "data": {
            "text/plain": [
              "(50, 50)"
            ]
          },
          "metadata": {},
          "execution_count": 67
        }
      ]
    },
    {
      "cell_type": "code",
      "source": [
        "# create a training (80%) and test (20%) set of data\n",
        "train_split = int(0.8 * len(X))\n",
        "X_train, y_train = X[:train_split], y[:train_split]\n",
        "X_test, y_test = X[train_split:], y[train_split:]\n",
        "\n",
        "len(X_train), len(y_train), len(X_test), len(y_test)"
      ],
      "metadata": {
        "colab": {
          "base_uri": "https://localhost:8080/"
        },
        "id": "v73atYTbNMM7",
        "outputId": "5b4537ff-5275-4fa3-f4dc-6b5fbe1f64f9"
      },
      "execution_count": 68,
      "outputs": [
        {
          "output_type": "execute_result",
          "data": {
            "text/plain": [
              "(40, 40, 10, 10)"
            ]
          },
          "metadata": {},
          "execution_count": 68
        }
      ]
    },
    {
      "cell_type": "code",
      "source": [
        "def plot_predictions(train_data=X_train, train_labels=y_train,\n",
        "                     test_data=X_test, test_labels=y_test,\n",
        "                     predictions=None):\n",
        "  plt.figure(figsize=(10, 7))\n",
        "  plt.scatter(train_data, train_labels, c=\"b\", s=4, label=\"Training data\")\n",
        "  plt.scatter(test_data, test_labels, c=\"g\", s=4, label=\"Test data\")\n",
        "  if predictions is not None:\n",
        "    plt.scatter(test_data, predictions, c=\"r\", s=4, label=\"Predictions\")\n",
        "  plt.legend(prop={\"size\": 14})"
      ],
      "metadata": {
        "id": "yx5REAkLPSZg"
      },
      "execution_count": 69,
      "outputs": []
    },
    {
      "cell_type": "code",
      "source": [
        "plot_predictions()"
      ],
      "metadata": {
        "colab": {
          "base_uri": "https://localhost:8080/",
          "height": 599
        },
        "id": "a-KIw7AlQ5jD",
        "outputId": "d0ee16c8-66b6-4389-d1e8-dec3189a9bab"
      },
      "execution_count": 70,
      "outputs": [
        {
          "output_type": "display_data",
          "data": {
            "text/plain": [
              "<Figure size 1000x700 with 1 Axes>"
            ],
            "image/png": "[encoded data removed]"
          },
          "metadata": {}
        }
      ]
    },
    {
      "cell_type": "code",
      "source": [
        "class LinearRegressionModel(nn.Module):\n",
        "  \"\"\"a PyTorch model - almost everything in PyTorch inherirts from nn.Module\"\"\"\n",
        "  def __init__(self):\n",
        "    super().__init__()\n",
        "    # note: requires_grad - refers to 'gradient descent'\n",
        "    # also something called backpropogation is used\n",
        "    # Youtube - 3blue1brown has some good videos\n",
        "    self.weights = nn.Parameter(torch.randn(1,\n",
        "                                            requires_grad=True,\n",
        "                                            dtype=torch.float))\n",
        "    self.bias = nn.Parameter(torch.randn(1,\n",
        "                                         requires_grad=True,\n",
        "                                         dtype=torch.float))\n",
        "\n",
        "  # forward method to define compuation in the model\n",
        "  def forward(self, x: torch.Tensor) -> torch.Tensor:\n",
        "    return pow(x, self.weights) + self.bias  # the linear regression"
      ],
      "metadata": {
        "id": "16R9DXFuRZgW"
      },
      "execution_count": 71,
      "outputs": []
    },
    {
      "cell_type": "code",
      "source": [
        "torch.randn(1,\n",
        "                                            requires_grad=True,\n",
        "                                            dtype=torch.float)"
      ],
      "metadata": {
        "colab": {
          "base_uri": "https://localhost:8080/"
        },
        "id": "dmO7ZgmiScHd",
        "outputId": "9fb6e306-747e-4e05-d499-fc88f63c77cd"
      },
      "execution_count": 72,
      "outputs": [
        {
          "output_type": "execute_result",
          "data": {
            "text/plain": [
              "tensor([0.2345], requires_grad=True)"
            ]
          },
          "metadata": {},
          "execution_count": 72
        }
      ]
    },
    {
      "cell_type": "code",
      "source": [
        "torch.manual_seed(42)\n",
        "\n",
        "model_0 = LinearRegressionModel()\n",
        "list(model_0.parameters())"
      ],
      "metadata": {
        "colab": {
          "base_uri": "https://localhost:8080/"
        },
        "id": "exKjvvQakAUU",
        "outputId": "bcd40efe-b90f-4228-96b4-716f2c02d488"
      },
      "execution_count": 73,
      "outputs": [
        {
          "output_type": "execute_result",
          "data": {
            "text/plain": [
              "[Parameter containing:\n",
              " tensor([0.3367], requires_grad=True),\n",
              " Parameter containing:\n",
              " tensor([0.1288], requires_grad=True)]"
            ]
          },
          "metadata": {},
          "execution_count": 73
        }
      ]
    },
    {
      "cell_type": "code",
      "source": [
        "model_0.state_dict()  # get names of paramters"
      ],
      "metadata": {
        "id": "eJgV1G6TRZ4d",
        "colab": {
          "base_uri": "https://localhost:8080/"
        },
        "outputId": "a714bc69-36b4-4418-dcf9-67479e1529fc"
      },
      "execution_count": 74,
      "outputs": [
        {
          "output_type": "execute_result",
          "data": {
            "text/plain": [
              "OrderedDict([('weights', tensor([0.3367])), ('bias', tensor([0.1288]))])"
            ]
          },
          "metadata": {},
          "execution_count": 74
        }
      ]
    },
    {
      "cell_type": "code",
      "source": [
        "# the random param values should eventuially get to our preset weight/bias\n",
        "weight, bias"
      ],
      "metadata": {
        "colab": {
          "base_uri": "https://localhost:8080/"
        },
        "id": "-7HjpOV4k9PL",
        "outputId": "a91dd2b4-0452-4a77-b4d1-bbf757ffdb64"
      },
      "execution_count": 75,
      "outputs": [
        {
          "output_type": "execute_result",
          "data": {
            "text/plain": [
              "(0.7, 0.3)"
            ]
          },
          "metadata": {},
          "execution_count": 75
        }
      ]
    },
    {
      "cell_type": "code",
      "source": [
        "# see how well we can predict X_test based on y_test\n",
        "print(f'X_test={X_test}\\n\\n')\n",
        "with torch.inference_mode():  # inference mode means 'predicting' not 'learning'\n",
        "# this is faster than running in default learning  mode\n",
        "  y_preds = model_0(X_test)\n",
        "\n",
        "print(f'y_preds={y_preds}\\n\\n')"
      ],
      "metadata": {
        "colab": {
          "base_uri": "https://localhost:8080/"
        },
        "id": "Wq5ALW2Wlj1r",
        "outputId": "68e12449-bb99-4369-8c9d-cea45c54b3eb"
      },
      "execution_count": 76,
      "outputs": [
        {
          "output_type": "stream",
          "name": "stdout",
          "text": [
            "X_test=tensor([[0.8000],\n",
            "        [0.8200],\n",
            "        [0.8400],\n",
            "        [0.8600],\n",
            "        [0.8800],\n",
            "        [0.9000],\n",
            "        [0.9200],\n",
            "        [0.9400],\n",
            "        [0.9600],\n",
            "        [0.9800]])\n",
            "\n",
            "\n",
            "y_preds=tensor([[1.0564],\n",
            "        [1.0642],\n",
            "        [1.0718],\n",
            "        [1.0793],\n",
            "        [1.0867],\n",
            "        [1.0940],\n",
            "        [1.1011],\n",
            "        [1.1082],\n",
            "        [1.1152],\n",
            "        [1.1220]])\n",
            "\n",
            "\n"
          ]
        }
      ]
    },
    {
      "cell_type": "code",
      "source": [
        "plot_predictions(predictions=y_preds)"
      ],
      "metadata": {
        "colab": {
          "base_uri": "https://localhost:8080/",
          "height": 599
        },
        "id": "6SEJk09nmLNw",
        "outputId": "8de57542-1faf-4272-e1ab-b7b79a6b8d08"
      },
      "execution_count": 77,
      "outputs": [
        {
          "output_type": "display_data",
          "data": {
            "text/plain": [
              "<Figure size 1000x700 with 1 Axes>"
            ],
            "image/png": "[encoded data removed]"
          },
          "metadata": {}
        }
      ]
    },
    {
      "cell_type": "markdown",
      "source": [
        "## Training a Model\n",
        "The idea of training a model is move from some unbknown/random parameters to some known parameters that better represent the desired output\n",
        "\n",
        "We can use a __'Loss function'__ to determine how close or wrong a model/params is\n",
        "\n",
        "Sometimes also known as a __'Cost function'__\n",
        "\n",
        "There are loads of 'Loss funtcions' in `torch.nn`\n",
        "\n",
        "In either case - a lower result means a closer match\n",
        "\n",
        "__Optimizer__: adjusts the models parameters (weight and bias in this simple case)\n",
        "\n",
        "For Pytorch we will need:\n",
        "- a training loop\n",
        "- a testing loop"
      ],
      "metadata": {
        "id": "MpcfyhnAmvFi"
      }
    },
    {
      "cell_type": "code",
      "source": [
        "# we will use torch.nn.l1Loss - which calculates the 'mean absolute error'\n",
        "loss_fn = torch.nn.L1Loss()\n",
        "\n",
        "# and a optimizer, and select an algorithm - https://pytorch.org/docs/stable/optim.html#torch.optim.Optimizer\n",
        "# we will use 'Stochastic Gradient Descent' or SGD\n",
        "optimizer = torch.optim.SGD(params=model_0.parameters(), lr=0.01)\n",
        "# lr=learning rate VERY IMPORTANT HYPERPARAMETER - how much the parameters change each iteration\n",
        "optimizer"
      ],
      "metadata": {
        "colab": {
          "base_uri": "https://localhost:8080/"
        },
        "id": "EadBvR1kqZS1",
        "outputId": "b5a52a0f-56f8-4d2e-e1af-00dae006d030"
      },
      "execution_count": 78,
      "outputs": [
        {
          "output_type": "execute_result",
          "data": {
            "text/plain": [
              "SGD (\n",
              "Parameter Group 0\n",
              "    dampening: 0\n",
              "    differentiable: False\n",
              "    foreach: None\n",
              "    lr: 0.01\n",
              "    maximize: False\n",
              "    momentum: 0\n",
              "    nesterov: False\n",
              "    weight_decay: 0\n",
              ")"
            ]
          },
          "metadata": {},
          "execution_count": 78
        }
      ]
    },
    {
      "cell_type": "markdown",
      "source": [
        "### Create a training loop\n",
        "\n",
        "- loop through data to:\n",
        " - forward pass (data moving thnbrough our models `forward()` function)\n",
        " - calculate the 'loss' (compare predictions to actual data)\n",
        " - 'back propogate' - to calculate the gradients of each parameter\n",
        " - use the optimizer tro adjust model parameters"
      ],
      "metadata": {
        "id": "QqHGtl_VtZWA"
      }
    },
    {
      "cell_type": "code",
      "source": [
        "epochs = 500  # an epoch is one loop through the data\n",
        "# number of epochs is a HYPERPARAMETER - as we have set it\n",
        "epoch_values = []\n",
        "loss_values = []\n",
        "test_loss_values = []\n",
        "\n",
        "# the TRAINING loop\n",
        "for epoch in range(epochs):\n",
        "  model_0.train() # sets gradients on all parameters\n",
        "  y_pred = model_0(X_train)\n",
        "\n",
        "  # calculate loss\n",
        "  loss = loss_fn(y_pred, y_train)  # predictions versus expected from training data\n",
        "\n",
        "  optimizer.zero_grad()  # what is this doing? prepare for next optimizer.step()\n",
        "\n",
        "  loss.backward()  # backpropagation\n",
        "\n",
        "  optimizer.step()\n",
        "  # print(f'model state: {model_0.state_dict()}')\n",
        "\n",
        "  ### Testing\n",
        "  model_0.eval()  # switch off features for learning\n",
        "  with torch.inference_mode():  # turn off gradient tracking\n",
        "    test_pred = model_0(X_test)  # predict using the current model\n",
        "    test_loss = loss_fn(test_pred, y_test)\n",
        "\n",
        "  if epoch % 10 == 0:\n",
        "    epoch_values.append(epoch)\n",
        "    loss_values.append(loss)\n",
        "    test_loss_values.append(test_loss)\n",
        "    print(f'Epoch: {epoch} loss={loss} test_Loss={test_loss}')\n",
        "\n",
        "# see how well we can predict X_test based on y_test\n",
        "#print(f'X_test={X_test}\\n\\n')\n",
        "with torch.inference_mode():  # inference mode means 'predicting' not 'learning'\n",
        "# this is faster than running in default learning  mode\n",
        "  y_preds = model_0(X_test)\n",
        "\n",
        "#print(f'y_preds={y_preds}\\n\\n')\n",
        "print(f'model state: {model_0.state_dict()} loss={loss}')"
      ],
      "metadata": {
        "colab": {
          "base_uri": "https://localhost:8080/"
        },
        "id": "Mxt5jUsTx3oQ",
        "outputId": "db316eaf-ab7a-4641-a8cb-d1af46a4c946"
      },
      "execution_count": 79,
      "outputs": [
        {
          "output_type": "stream",
          "name": "stdout",
          "text": [
            "Epoch: 0 loss=0.057962872087955475 test_Loss=0.13432547450065613\n",
            "Epoch: 10 loss=0.04673430323600769 test_Loss=0.14597034454345703\n",
            "Epoch: 20 loss=0.04340468719601631 test_Loss=0.14187371730804443\n",
            "Epoch: 30 loss=0.040522925555706024 test_Loss=0.1339387148618698\n",
            "Epoch: 40 loss=0.03783027082681656 test_Loss=0.12700024247169495\n",
            "Epoch: 50 loss=0.03540423512458801 test_Loss=0.11940069496631622\n",
            "Epoch: 60 loss=0.03318466618657112 test_Loss=0.1111714094877243\n",
            "Epoch: 70 loss=0.031118333339691162 test_Loss=0.10501845180988312\n",
            "Epoch: 80 loss=0.029165858402848244 test_Loss=0.099352166056633\n",
            "Epoch: 90 loss=0.027309704571962357 test_Loss=0.09364160150289536\n",
            "Epoch: 100 loss=0.025532644242048264 test_Loss=0.08842011541128159\n",
            "Epoch: 110 loss=0.02384089305996895 test_Loss=0.08315753936767578\n",
            "Epoch: 120 loss=0.022226160392165184 test_Loss=0.07785546779632568\n",
            "Epoch: 130 loss=0.020683303475379944 test_Loss=0.0730462297797203\n",
            "Epoch: 140 loss=0.019222568720579147 test_Loss=0.06765525043010712\n",
            "Epoch: 150 loss=0.017826074734330177 test_Loss=0.0627669245004654\n",
            "Epoch: 160 loss=0.01652093604207039 test_Loss=0.058361638337373734\n",
            "Epoch: 170 loss=0.015280348248779774 test_Loss=0.05390777438879013\n",
            "Epoch: 180 loss=0.01409719604998827 test_Loss=0.049957383424043655\n",
            "Epoch: 190 loss=0.012954214587807655 test_Loss=0.04598269611597061\n",
            "Epoch: 200 loss=0.011849273927509785 test_Loss=0.041984476149082184\n",
            "Epoch: 210 loss=0.01078039314597845 test_Loss=0.03796360641717911\n",
            "Epoch: 220 loss=0.009749573655426502 test_Loss=0.03444678708910942\n",
            "Epoch: 230 loss=0.008756551891565323 test_Loss=0.03143399953842163\n",
            "Epoch: 240 loss=0.007792934775352478 test_Loss=0.027873504906892776\n",
            "Epoch: 250 loss=0.006864958442747593 test_Loss=0.024817824363708496\n",
            "Epoch: 260 loss=0.005968219600617886 test_Loss=0.02173980511724949\n",
            "Epoch: 270 loss=0.0051039159297943115 test_Loss=0.018639564514160156\n",
            "Epoch: 280 loss=0.004274076782166958 test_Loss=0.015517723746597767\n",
            "Epoch: 290 loss=0.0034809387288987637 test_Loss=0.01290193758904934\n",
            "Epoch: 300 loss=0.008284566923975945 test_Loss=0.0120995519682765\n",
            "Epoch: 310 loss=0.007282895501703024 test_Loss=0.012353015132248402\n",
            "Epoch: 320 loss=0.008432521484792233 test_Loss=0.010922801680862904\n",
            "Epoch: 330 loss=0.008335920050740242 test_Loss=0.010567879304289818\n",
            "Epoch: 340 loss=0.008009701035916805 test_Loss=0.010271549224853516\n",
            "Epoch: 350 loss=0.0066243549808859825 test_Loss=0.011003494262695312\n",
            "Epoch: 360 loss=0.008954381570219994 test_Loss=0.008514988236129284\n",
            "Epoch: 370 loss=0.007176239974796772 test_Loss=0.009726464748382568\n",
            "Epoch: 380 loss=0.007159081287682056 test_Loss=0.009352410212159157\n",
            "Epoch: 390 loss=0.009030109271407127 test_Loss=0.007863772101700306\n",
            "Epoch: 400 loss=0.00898580439388752 test_Loss=0.007875120267271996\n",
            "Epoch: 410 loss=0.008941532112658024 test_Loss=0.00788646936416626\n",
            "Epoch: 420 loss=0.008897263556718826 test_Loss=0.007897794246673584\n",
            "Epoch: 430 loss=0.008853002451360226 test_Loss=0.007909143343567848\n",
            "Epoch: 440 loss=0.008808756247162819 test_Loss=0.007920479401946068\n",
            "Epoch: 450 loss=0.008764558471739292 test_Loss=0.007931781001389027\n",
            "Epoch: 460 loss=0.008720355108380318 test_Loss=0.00794311799108982\n",
            "Epoch: 470 loss=0.008676192723214626 test_Loss=0.007954430766403675\n",
            "Epoch: 480 loss=0.00863201729953289 test_Loss=0.007965755648911\n",
            "Epoch: 490 loss=0.008587892167270184 test_Loss=0.007977044209837914\n",
            "model state: OrderedDict([('weights', tensor([0.6799])), ('bias', tensor([0.3003]))]) loss=0.003162501845508814\n"
          ]
        }
      ]
    },
    {
      "cell_type": "code",
      "source": [
        "# plot the loss function\n",
        "plt.plot(epoch_values, torch.tensor(loss_values).numpy(), label='Training loss')\n",
        "plt.plot(epoch_values, test_loss_values, label='Testing loss')\n",
        "plt.title('Training and test loss curves')\n",
        "plt.ylabel('Loss')\n",
        "plt.xlabel('Epochs')\n",
        "plt.legend();\n"
      ],
      "metadata": {
        "colab": {
          "base_uri": "https://localhost:8080/",
          "height": 472
        },
        "id": "npzYaxPDsEfN",
        "outputId": "77bfafe7-bb0b-4797-b1cf-055ad6d2063d"
      },
      "execution_count": 80,
      "outputs": [
        {
          "output_type": "display_data",
          "data": {
            "text/plain": [
              "<Figure size 640x480 with 1 Axes>"
            ],
            "image/png": "[encoded data removed]"
          },
          "metadata": {}
        }
      ]
    },
    {
      "cell_type": "code",
      "source": [
        "with torch.inference_mode():\n",
        "  y_preds_new = model_0(X_test)\n",
        "  plot_predictions(predictions=y_preds_new)"
      ],
      "metadata": {
        "id": "vTeXjbQy0swM",
        "colab": {
          "base_uri": "https://localhost:8080/",
          "height": 599
        },
        "outputId": "76c2144d-a9cf-4ac3-83ed-4c30744b331d"
      },
      "execution_count": 81,
      "outputs": [
        {
          "output_type": "display_data",
          "data": {
            "text/plain": [
              "<Figure size 1000x700 with 1 Axes>"
            ],
            "image/png": "[encoded data removed]"
          },
          "metadata": {}
        }
      ]
    },
    {
      "cell_type": "code",
      "source": [
        "from pathlib import Path\n",
        "\n",
        "# 1. Create models directory\n",
        "MODEL_PATH = Path(\"models\")\n",
        "MODEL_PATH.mkdir(parents=True, exist_ok=True)\n",
        "\n",
        "# 2. Create model save path\n",
        "MODEL_NAME = \"01_pytorch_workflow_model_0.pth\"\n",
        "MODEL_SAVE_PATH = MODEL_PATH / MODEL_NAME  # / on Path is overridden!\n",
        "\n",
        "# 3. Save the model state dict\n",
        "print(f\"Saving model to: {MODEL_SAVE_PATH}\")\n",
        "torch.save(obj=model_0.state_dict(), # only saving the state_dict() only saves the models learned parameters\n",
        "           f=MODEL_SAVE_PATH)"
      ],
      "metadata": {
        "id": "wtmrUf8EY846",
        "colab": {
          "base_uri": "https://localhost:8080/"
        },
        "outputId": "3d9fd8ac-3027-4ebc-ba57-bf71acb3a06b"
      },
      "execution_count": 82,
      "outputs": [
        {
          "output_type": "stream",
          "name": "stdout",
          "text": [
            "Saving model to: models/01_pytorch_workflow_model_0.pth\n"
          ]
        }
      ]
    }
  ]
}