{
  "nbformat": 4,
  "nbformat_minor": 0,
  "metadata": {
    "colab": {
      "provenance": [],
      "gpuType": "T4",
      "authorship_tag": "ABX9TyPDZ3wO662thuxPTcJl0Z4x",
      "include_colab_link": true
    },
    "kernelspec": {
      "name": "python3",
      "display_name": "Python 3"
    },
    "language_info": {
      "name": "python"
    },
    "accelerator": "GPU"
  },
  "cells": [
    {
      "cell_type": "markdown",
      "metadata": {
        "id": "view-in-github",
        "colab_type": "text"
      },
      "source": [
        "<a href=\"https://colab.research.google.com/github/dave-howard/PyTorch/blob/main/01_pytorch_workflow.ipynb\" target=\"_parent\"><img src=\"https://colab.research.google.com/assets/colab-badge.svg\" alt=\"Open In Colab\"/></a>"
      ]
    },
    {
      "cell_type": "code",
      "execution_count": null,
      "metadata": {
        "id": "_pEpD_4sH4j4"
      },
      "outputs": [],
      "source": []
    },
    {
      "cell_type": "code",
      "source": [
        "what_were_covering = {\n",
        "    1: \"data (prepare and load)\",\n",
        "    2: \"build model\",\n",
        "    3: \"fitting the model to data (training)\",\n",
        "    4: \"making predictions and evaluating a model (inference)\",\n",
        "    5: \"saving and loading a model\",\n",
        "    6: \"putting it all together\"\n",
        "}"
      ],
      "metadata": {
        "id": "P6jW0wpUIMOk"
      },
      "execution_count": 1,
      "outputs": []
    },
    {
      "cell_type": "code",
      "source": [
        "import torch\n",
        "from torch import nn  # neural networks\n",
        "import matplotlib.pyplot as plt\n"
      ],
      "metadata": {
        "id": "y33zf5pvKnbC"
      },
      "execution_count": 2,
      "outputs": []
    },
    {
      "cell_type": "code",
      "source": [
        "torch.__version__"
      ],
      "metadata": {
        "colab": {
          "base_uri": "https://localhost:8080/",
          "height": 36
        },
        "id": "UK3IHspQLPNA",
        "outputId": "95a31bd9-dd11-4e6b-832c-a435b9896744"
      },
      "execution_count": 3,
      "outputs": [
        {
          "output_type": "execute_result",
          "data": {
            "text/plain": [
              "'2.1.0+cu121'"
            ],
            "application/vnd.google.colaboratory.intrinsic+json": {
              "type": "string"
            }
          },
          "metadata": {},
          "execution_count": 3
        }
      ]
    },
    {
      "cell_type": "markdown",
      "source": [
        "## 1. Data - preparing and loading\n",
        "\n",
        "could be anything\n",
        "- spreadheets\n",
        "- videos\n",
        "- images\n",
        "- text\n",
        "- audio\n",
        "\n",
        "1. get data into numerical format\n",
        "2. build a model to learn patterns in that numerical representation\n",
        "\n",
        "We will use a linear regression formula - to make a stright line with known parameters - i.e. y = a + bx, where we know a and b"
      ],
      "metadata": {
        "id": "dgrtsPZwLVbJ"
      }
    },
    {
      "cell_type": "code",
      "source": [
        "weight = 0.7\n",
        "bias = 0.3\n",
        "start = 0\n",
        "end = 1\n",
        "step = 0.02\n",
        "X = torch.arange(start, end, step).unsqueeze(dim=1) # our input\n",
        "# (unsqueeze to get one cell per row, which we need later)\n",
        "y = weight * X + bias  # our output\n",
        "X[:10], y[:10]"
      ],
      "metadata": {
        "colab": {
          "base_uri": "https://localhost:8080/"
        },
        "id": "NTfltkVjLpLM",
        "outputId": "a18690f4-8f2a-4af1-f47d-58d9c90e16a7"
      },
      "execution_count": 4,
      "outputs": [
        {
          "output_type": "execute_result",
          "data": {
            "text/plain": [
              "(tensor([[0.0000],\n",
              "         [0.0200],\n",
              "         [0.0400],\n",
              "         [0.0600],\n",
              "         [0.0800],\n",
              "         [0.1000],\n",
              "         [0.1200],\n",
              "         [0.1400],\n",
              "         [0.1600],\n",
              "         [0.1800]]),\n",
              " tensor([[0.3000],\n",
              "         [0.3140],\n",
              "         [0.3280],\n",
              "         [0.3420],\n",
              "         [0.3560],\n",
              "         [0.3700],\n",
              "         [0.3840],\n",
              "         [0.3980],\n",
              "         [0.4120],\n",
              "         [0.4260]]))"
            ]
          },
          "metadata": {},
          "execution_count": 4
        }
      ]
    },
    {
      "cell_type": "code",
      "source": [
        "len(X), len(y)"
      ],
      "metadata": {
        "colab": {
          "base_uri": "https://localhost:8080/"
        },
        "id": "t-isdzARN-7K",
        "outputId": "472fb8ba-434e-4927-8e76-a76ac46d94a8"
      },
      "execution_count": 5,
      "outputs": [
        {
          "output_type": "execute_result",
          "data": {
            "text/plain": [
              "(50, 50)"
            ]
          },
          "metadata": {},
          "execution_count": 5
        }
      ]
    },
    {
      "cell_type": "code",
      "source": [
        "# create a training (80%) and test (20%) set of data\n",
        "train_split = int(0.8 * len(X))\n",
        "X_train, y_train = X[:train_split], y[:train_split]\n",
        "X_test, y_test = X[train_split:], y[train_split:]\n",
        "\n",
        "len(X_train), len(y_train), len(X_test), len(y_test)"
      ],
      "metadata": {
        "colab": {
          "base_uri": "https://localhost:8080/"
        },
        "id": "v73atYTbNMM7",
        "outputId": "eac83ffd-6524-4a27-fd24-960763aae003"
      },
      "execution_count": 6,
      "outputs": [
        {
          "output_type": "execute_result",
          "data": {
            "text/plain": [
              "(40, 40, 10, 10)"
            ]
          },
          "metadata": {},
          "execution_count": 6
        }
      ]
    },
    {
      "cell_type": "code",
      "source": [
        "def plot_predictions(train_data=X_train, train_labels=y_train,\n",
        "                     test_data=X_test, test_labels=y_test,\n",
        "                     predictions=None):\n",
        "  plt.figure(figsize=(10, 7))\n",
        "  plt.scatter(train_data, train_labels, c=\"b\", s=4, label=\"Training data\")\n",
        "  plt.scatter(test_data, test_labels, c=\"g\", s=4, label=\"Test data\")\n",
        "  if predictions is not None:\n",
        "    plt.scatter(test_data, predictions, c=\"r\", s=4, label=\"Predictions\")\n",
        "  plt.legend(prop={\"size\": 14})"
      ],
      "metadata": {
        "id": "yx5REAkLPSZg"
      },
      "execution_count": 31,
      "outputs": []
    },
    {
      "cell_type": "code",
      "source": [
        "plot_predictions()"
      ],
      "metadata": {
        "colab": {
          "base_uri": "https://localhost:8080/",
          "height": 599
        },
        "id": "a-KIw7AlQ5jD",
        "outputId": "79eb3422-9d22-48cf-952f-46e80e472480"
      },
      "execution_count": 8,
      "outputs": [
        {
          "output_type": "display_data",
          "data": {
            "text/plain": [
              "<Figure size 1000x700 with 1 Axes>"
            ],
            "image/png": "[encoded data removed]"
          },
          "metadata": {}
        }
      ]
    },
    {
      "cell_type": "code",
      "source": [
        "class LinearRegressionModel(nn.Module):\n",
        "  \"\"\"a PyTorch model - almost everything in PyTorch inherirts from nn.Module\"\"\"\n",
        "  def __init__(self):\n",
        "    super().__init__()\n",
        "    # note: requires_grad - refers to 'gradient descent'\n",
        "    # also something called backpropogation is used\n",
        "    # Youtube - 3blue1brown has some good videos\n",
        "    self.weights = nn.Parameter(torch.randn(1,\n",
        "                                            requires_grad=True,\n",
        "                                            dtype=torch.float))\n",
        "    self.bias = nn.Parameter(torch.randn(1,\n",
        "                                         requires_grad=True,\n",
        "                                         dtype=torch.float))\n",
        "\n",
        "  # forward method to define compuation in the model\n",
        "  def forward(self, x: torch.Tensor) -> torch.Tensor:\n",
        "    return self.weights * x + self.bias  # the linear regression"
      ],
      "metadata": {
        "id": "16R9DXFuRZgW"
      },
      "execution_count": 23,
      "outputs": []
    },
    {
      "cell_type": "code",
      "source": [
        "torch.randn(1,\n",
        "                                            requires_grad=True,\n",
        "                                            dtype=torch.float)"
      ],
      "metadata": {
        "colab": {
          "base_uri": "https://localhost:8080/"
        },
        "id": "dmO7ZgmiScHd",
        "outputId": "9513d6b6-769f-4bd1-b879-22c062c5bafb"
      },
      "execution_count": 10,
      "outputs": [
        {
          "output_type": "execute_result",
          "data": {
            "text/plain": [
              "tensor([0.6111], requires_grad=True)"
            ]
          },
          "metadata": {},
          "execution_count": 10
        }
      ]
    },
    {
      "cell_type": "code",
      "source": [
        "torch.manual_seed(42)\n",
        "\n",
        "model_0 = LinearRegressionModel()\n",
        "list(model_0.parameters())"
      ],
      "metadata": {
        "colab": {
          "base_uri": "https://localhost:8080/"
        },
        "id": "exKjvvQakAUU",
        "outputId": "84d22338-5171-407e-f0b0-91501d3de25f"
      },
      "execution_count": 25,
      "outputs": [
        {
          "output_type": "execute_result",
          "data": {
            "text/plain": [
              "[Parameter containing:\n",
              " tensor([0.3367], requires_grad=True),\n",
              " Parameter containing:\n",
              " tensor([0.1288], requires_grad=True)]"
            ]
          },
          "metadata": {},
          "execution_count": 25
        }
      ]
    },
    {
      "cell_type": "code",
      "source": [
        "model_0.state_dict()  # get names of paramters"
      ],
      "metadata": {
        "id": "eJgV1G6TRZ4d",
        "colab": {
          "base_uri": "https://localhost:8080/"
        },
        "outputId": "c91f6dc2-45f3-4205-fd6c-e68f1c0e3d0c"
      },
      "execution_count": 17,
      "outputs": [
        {
          "output_type": "execute_result",
          "data": {
            "text/plain": [
              "OrderedDict([('weights', tensor([0.3367])), ('bias', tensor([0.1288]))])"
            ]
          },
          "metadata": {},
          "execution_count": 17
        }
      ]
    },
    {
      "cell_type": "code",
      "source": [
        "# the random param values should eventuially get to our preset weight/bias\n",
        "weight, bias"
      ],
      "metadata": {
        "colab": {
          "base_uri": "https://localhost:8080/"
        },
        "id": "-7HjpOV4k9PL",
        "outputId": "66453d4c-5a6f-4711-fc70-67335cea7bdb"
      },
      "execution_count": 21,
      "outputs": [
        {
          "output_type": "execute_result",
          "data": {
            "text/plain": [
              "(0.7, 0.3)"
            ]
          },
          "metadata": {},
          "execution_count": 21
        }
      ]
    },
    {
      "cell_type": "code",
      "source": [
        "# see how well we can predict X_test based on y_test\n",
        "print(f'X_test={X_test}\\n\\n')\n",
        "with torch.inference_mode():  # inference mode means 'predicting' not 'learning'\n",
        "# this is faster than running in default learning  mode\n",
        "  y_preds = model_0(X_test)\n",
        "\n",
        "print(f'y_preds={y_preds}\\n\\n')"
      ],
      "metadata": {
        "colab": {
          "base_uri": "https://localhost:8080/"
        },
        "id": "Wq5ALW2Wlj1r",
        "outputId": "f2fce613-132d-4c29-ec9d-80bab849a654"
      },
      "execution_count": 29,
      "outputs": [
        {
          "output_type": "stream",
          "name": "stdout",
          "text": [
            "X_test=tensor([[0.8000],\n",
            "        [0.8200],\n",
            "        [0.8400],\n",
            "        [0.8600],\n",
            "        [0.8800],\n",
            "        [0.9000],\n",
            "        [0.9200],\n",
            "        [0.9400],\n",
            "        [0.9600],\n",
            "        [0.9800]])\n",
            "\n",
            "\n",
            "y_preds=tensor([[0.3982],\n",
            "        [0.4049],\n",
            "        [0.4116],\n",
            "        [0.4184],\n",
            "        [0.4251],\n",
            "        [0.4318],\n",
            "        [0.4386],\n",
            "        [0.4453],\n",
            "        [0.4520],\n",
            "        [0.4588]])\n",
            "\n",
            "\n"
          ]
        }
      ]
    },
    {
      "cell_type": "code",
      "source": [
        "plot_predictions(predictions=y_preds)"
      ],
      "metadata": {
        "colab": {
          "base_uri": "https://localhost:8080/",
          "height": 599
        },
        "id": "6SEJk09nmLNw",
        "outputId": "92a6f008-beb9-4bf7-8b03-80b6c4437a96"
      },
      "execution_count": 32,
      "outputs": [
        {
          "output_type": "display_data",
          "data": {
            "text/plain": [
              "<Figure size 1000x700 with 1 Axes>"
            ],
            "image/png": "[encoded data removed]"
          },
          "metadata": {}
        }
      ]
    },
    {
      "cell_type": "markdown",
      "source": [
        "## Training a Model\n",
        "The idea of training a model is move from some unbknown/random parameters to some known parameters that better represent the desired output\n",
        "\n",
        "We can use a __'Loss function'__ to determine how close or wrong a model/params is\n",
        "\n",
        "Sometimes also known as a __'Cost function'__\n",
        "\n",
        "There are loads of 'Loss funtcions' in `torch.nn`\n",
        "\n",
        "In either case - a lower result means a closer match\n",
        "\n",
        "__Optimizer__: adjusts the models parameters (weight and bias in this simple case)\n",
        "\n",
        "For Pytorch we will need:\n",
        "- a training loop\n",
        "- a testing loop"
      ],
      "metadata": {
        "id": "MpcfyhnAmvFi"
      }
    },
    {
      "cell_type": "code",
      "source": [
        "# we will use torch.nn.l1Loss - which calculates the 'mean absolute error'\n",
        "loss_fn = torch.nn.L1Loss()\n",
        "\n",
        "# and a optimizer, and select an algorithm - https://pytorch.org/docs/stable/optim.html#torch.optim.Optimizer\n",
        "# we will use 'Stochastic Gradient Descent' or SGD\n",
        "optimizer = torch.optim.SGD(params=model_0.parameters(), lr=0.01)\n",
        "# lr=learning rate VERY IMPORTANT HYPERPARAMETER - how much the parameters change each iteration\n",
        "optimizer"
      ],
      "metadata": {
        "colab": {
          "base_uri": "https://localhost:8080/"
        },
        "id": "EadBvR1kqZS1",
        "outputId": "907c5d19-a5a8-4331-9196-65be94524c2b"
      },
      "execution_count": 34,
      "outputs": [
        {
          "output_type": "execute_result",
          "data": {
            "text/plain": [
              "SGD (\n",
              "Parameter Group 0\n",
              "    dampening: 0\n",
              "    differentiable: False\n",
              "    foreach: None\n",
              "    lr: 0.01\n",
              "    maximize: False\n",
              "    momentum: 0\n",
              "    nesterov: False\n",
              "    weight_decay: 0\n",
              ")"
            ]
          },
          "metadata": {},
          "execution_count": 34
        }
      ]
    },
    {
      "cell_type": "markdown",
      "source": [
        "### Create a training loop\n",
        "\n",
        "- loop through data to:\n",
        " - forward pass (data moving thnbrough our models `forward()` function)\n",
        " - calculate the 'loss' (compare predictions to actual data)\n",
        " - 'back propogate' - to calculate the gradients of each parameter\n",
        " - use the optimizer tro adjust model parameters"
      ],
      "metadata": {
        "id": "QqHGtl_VtZWA"
      }
    },
    {
      "cell_type": "code",
      "source": [
        "epochs = 1  # an epoch is one loop through the data\n",
        "# number of epochs is a HYPERPARAMETER - as we have set it\n",
        "\n",
        "# the TRAINING loop\n",
        "for epoch in range(epochs):\n",
        "  model_0.train() # sets gradients on all parameters\n",
        "  y_pred = model_0(X_train)\n",
        "\n",
        "  # calculate loss\n",
        "  loss = loss_fn(y_pred, y_train)  # predictions versus expected from training data\n",
        "\n",
        "  optimizer.zero_grad()  # what is this doing? prepare for next optimizer.step()\n",
        "\n",
        "  loss.backward()  # backpropagation\n",
        "\n",
        "  optimizer.step()\n",
        "\n",
        "# see how well we can predict X_test based on y_test\n",
        "print(f'X_test={X_test}\\n\\n')\n",
        "with torch.inference_mode():  # inference mode means 'predicting' not 'learning'\n",
        "# this is faster than running in default learning  mode\n",
        "  y_preds = model_0(X_test)\n",
        "\n",
        "print(f'y_preds={y_preds}\\n\\n')"
      ],
      "metadata": {
        "colab": {
          "base_uri": "https://localhost:8080/"
        },
        "id": "Mxt5jUsTx3oQ",
        "outputId": "d01fbac5-f5a5-456c-a095-5bbcf6b58591"
      },
      "execution_count": 37,
      "outputs": [
        {
          "output_type": "stream",
          "name": "stdout",
          "text": [
            "X_test=tensor([[0.8000],\n",
            "        [0.8200],\n",
            "        [0.8400],\n",
            "        [0.8600],\n",
            "        [0.8800],\n",
            "        [0.9000],\n",
            "        [0.9200],\n",
            "        [0.9400],\n",
            "        [0.9600],\n",
            "        [0.9800]])\n",
            "\n",
            "\n",
            "y_preds=tensor([[0.4375],\n",
            "        [0.4445],\n",
            "        [0.4515],\n",
            "        [0.4584],\n",
            "        [0.4654],\n",
            "        [0.4724],\n",
            "        [0.4793],\n",
            "        [0.4863],\n",
            "        [0.4933],\n",
            "        [0.5002]])\n",
            "\n",
            "\n"
          ]
        }
      ]
    },
    {
      "cell_type": "code",
      "source": [],
      "metadata": {
        "id": "vTeXjbQy0swM"
      },
      "execution_count": null,
      "outputs": []
    }
  ]
}