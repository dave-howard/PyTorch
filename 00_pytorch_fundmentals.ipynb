{
  "nbformat": 4,
  "nbformat_minor": 0,
  "metadata": {
    "colab": {
      "provenance": [],
      "gpuType": "T4",
      "authorship_tag": "ABX9TyMmZWFMpCuZDPqIj5p6JKTT",
      "include_colab_link": true
    },
    "kernelspec": {
      "name": "python3",
      "display_name": "Python 3"
    },
    "language_info": {
      "name": "python"
    },
    "accelerator": "GPU"
  },
  "cells": [
    {
      "cell_type": "markdown",
      "metadata": {
        "id": "view-in-github",
        "colab_type": "text"
      },
      "source": [
        "<a href=\"https://colab.research.google.com/github/dave-howard/PyTorch/blob/main/00_pytorch_fundmentals.ipynb\" target=\"_parent\"><img src=\"https://colab.research.google.com/assets/colab-badge.svg\" alt=\"Open In Colab\"/></a>"
      ]
    },
    {
      "cell_type": "code",
      "execution_count": 3,
      "metadata": {
        "id": "dag0uaaXkSRI"
      },
      "outputs": [],
      "source": [
        "## PyTorch start\n",
        "\n",
        "# this is a text box in a notebook I think"
      ]
    },
    {
      "cell_type": "code",
      "source": [
        "import torch\n",
        "print(torch.__version__)"
      ],
      "metadata": {
        "colab": {
          "base_uri": "https://localhost:8080/"
        },
        "id": "LBCJV0I5ks9x",
        "outputId": "8724a9c7-6773-4ee4-b800-c67b350727b9"
      },
      "execution_count": 4,
      "outputs": [
        {
          "output_type": "stream",
          "name": "stdout",
          "text": [
            "2.1.0+cu121\n"
          ]
        }
      ]
    },
    {
      "cell_type": "code",
      "source": [
        "scalar = torch.tensor(7)\n",
        "scalar"
      ],
      "metadata": {
        "colab": {
          "base_uri": "https://localhost:8080/"
        },
        "id": "q_2WW8KqliSs",
        "outputId": "1ed95734-a483-46c6-8cf5-3d6dcac4acd5"
      },
      "execution_count": 5,
      "outputs": [
        {
          "output_type": "execute_result",
          "data": {
            "text/plain": [
              "tensor(7)"
            ]
          },
          "metadata": {},
          "execution_count": 5
        }
      ]
    },
    {
      "cell_type": "code",
      "source": [
        "scalar.ndim"
      ],
      "metadata": {
        "colab": {
          "base_uri": "https://localhost:8080/"
        },
        "id": "ybsE36MLlr82",
        "outputId": "0cb3452d-8700-49c3-f53c-b41873312cc9"
      },
      "execution_count": 6,
      "outputs": [
        {
          "output_type": "execute_result",
          "data": {
            "text/plain": [
              "0"
            ]
          },
          "metadata": {},
          "execution_count": 6
        }
      ]
    },
    {
      "cell_type": "code",
      "source": [
        "# thi tensor is just a single int '7'\n",
        "scalar.item()"
      ],
      "metadata": {
        "colab": {
          "base_uri": "https://localhost:8080/"
        },
        "id": "HNx7d0izp0HN",
        "outputId": "87be11df-e84b-44af-b41a-4b46850cca1d"
      },
      "execution_count": 7,
      "outputs": [
        {
          "output_type": "execute_result",
          "data": {
            "text/plain": [
              "7"
            ]
          },
          "metadata": {},
          "execution_count": 7
        }
      ]
    },
    {
      "cell_type": "code",
      "source": [
        "vector = torch.tensor([7, 7])\n",
        "vector"
      ],
      "metadata": {
        "colab": {
          "base_uri": "https://localhost:8080/"
        },
        "id": "JoETWb23p82R",
        "outputId": "98bfd5d0-7a60-4e7f-9539-5eff2e17cdde"
      },
      "execution_count": 8,
      "outputs": [
        {
          "output_type": "execute_result",
          "data": {
            "text/plain": [
              "tensor([7, 7])"
            ]
          },
          "metadata": {},
          "execution_count": 8
        }
      ]
    },
    {
      "cell_type": "code",
      "source": [
        "vector.ndim"
      ],
      "metadata": {
        "colab": {
          "base_uri": "https://localhost:8080/"
        },
        "id": "nZFu6t5sqXZZ",
        "outputId": "57e4cab0-ea30-4873-96f7-f030b4dd6149"
      },
      "execution_count": 9,
      "outputs": [
        {
          "output_type": "execute_result",
          "data": {
            "text/plain": [
              "1"
            ]
          },
          "metadata": {},
          "execution_count": 9
        }
      ]
    },
    {
      "cell_type": "code",
      "source": [
        "vector.shape"
      ],
      "metadata": {
        "colab": {
          "base_uri": "https://localhost:8080/"
        },
        "id": "AyU-32W_qaeQ",
        "outputId": "27181fa4-da50-45d2-a144-9347c6c9f951"
      },
      "execution_count": 10,
      "outputs": [
        {
          "output_type": "execute_result",
          "data": {
            "text/plain": [
              "torch.Size([2])"
            ]
          },
          "metadata": {},
          "execution_count": 10
        }
      ]
    },
    {
      "cell_type": "code",
      "source": [
        "MATRIX = torch.tensor([[1,2], [3,4]])\n",
        "print(MATRIX)\n",
        "print(MATRIX.ndim)\n",
        "print(MATRIX.shape)\n",
        "print(MATRIX[1])"
      ],
      "metadata": {
        "colab": {
          "base_uri": "https://localhost:8080/"
        },
        "id": "gBL9fS8mqcfq",
        "outputId": "e39af6e4-7025-4031-9db5-3bbe15de99cb"
      },
      "execution_count": 11,
      "outputs": [
        {
          "output_type": "stream",
          "name": "stdout",
          "text": [
            "tensor([[1, 2],\n",
            "        [3, 4]])\n",
            "2\n",
            "torch.Size([2, 2])\n",
            "tensor([3, 4])\n"
          ]
        }
      ]
    },
    {
      "cell_type": "code",
      "source": [
        "TENSOR = torch.tensor([[[1,2], [3,4]], [[5,6], [7,8]]])\n",
        "print(TENSOR)"
      ],
      "metadata": {
        "colab": {
          "base_uri": "https://localhost:8080/"
        },
        "id": "Nxq4qFhO1mio",
        "outputId": "eda5fa36-461c-41d7-cfe9-8c947e12ad94"
      },
      "execution_count": 12,
      "outputs": [
        {
          "output_type": "stream",
          "name": "stdout",
          "text": [
            "tensor([[[1, 2],\n",
            "         [3, 4]],\n",
            "\n",
            "        [[5, 6],\n",
            "         [7, 8]]])\n"
          ]
        }
      ]
    },
    {
      "cell_type": "code",
      "source": [
        "TENSOR.shape"
      ],
      "metadata": {
        "colab": {
          "base_uri": "https://localhost:8080/"
        },
        "id": "SxtQaZ2b3CsO",
        "outputId": "44e09d32-d5d9-4aec-eaf3-22ce87a7c4c7"
      },
      "execution_count": 13,
      "outputs": [
        {
          "output_type": "execute_result",
          "data": {
            "text/plain": [
              "torch.Size([2, 2, 2])"
            ]
          },
          "metadata": {},
          "execution_count": 13
        }
      ]
    },
    {
      "cell_type": "code",
      "source": [
        "TENSOR[0]"
      ],
      "metadata": {
        "colab": {
          "base_uri": "https://localhost:8080/"
        },
        "id": "VNgcv2Ll3VSW",
        "outputId": "509c30b3-10ea-401b-b90b-a55765336276"
      },
      "execution_count": 14,
      "outputs": [
        {
          "output_type": "execute_result",
          "data": {
            "text/plain": [
              "tensor([[1, 2],\n",
              "        [3, 4]])"
            ]
          },
          "metadata": {},
          "execution_count": 14
        }
      ]
    },
    {
      "cell_type": "markdown",
      "source": [
        "### Random Tensors"
      ],
      "metadata": {
        "id": "tlgVJsQZ5SGs"
      }
    },
    {
      "cell_type": "code",
      "source": [
        "random_tensor = torch.rand(2, 2, 2)\n",
        "random_tensor"
      ],
      "metadata": {
        "colab": {
          "base_uri": "https://localhost:8080/"
        },
        "id": "XjPvgzrmUiNg",
        "outputId": "6f10f2be-e4e9-409b-d7c5-2072da0e7552"
      },
      "execution_count": 15,
      "outputs": [
        {
          "output_type": "execute_result",
          "data": {
            "text/plain": [
              "tensor([[[0.5454, 0.3417],\n",
              "         [0.4615, 0.3475]],\n",
              "\n",
              "        [[0.8659, 0.5576],\n",
              "         [0.5468, 0.2414]]])"
            ]
          },
          "metadata": {},
          "execution_count": 15
        }
      ]
    },
    {
      "cell_type": "code",
      "source": [
        "random_tensor.dtype"
      ],
      "metadata": {
        "colab": {
          "base_uri": "https://localhost:8080/"
        },
        "id": "hGUt-UNhYRb3",
        "outputId": "3d229dc7-5546-41bc-8780-c5353b4bb2af"
      },
      "execution_count": 16,
      "outputs": [
        {
          "output_type": "execute_result",
          "data": {
            "text/plain": [
              "torch.float32"
            ]
          },
          "metadata": {},
          "execution_count": 16
        }
      ]
    },
    {
      "cell_type": "code",
      "source": [
        "# represnt an image as x, y, rgb color values e.g.\n",
        "random_image_tensor = torch.rand(224, 224, 3)  # x, y, color channel\n",
        "random_image_tensor_via_size = torch.rand(size=(3, 3, 3))  # can optionally use 'size' parameter\n",
        "print(random_image_tensor.shape)\n",
        "print(random_image_tensor_via_size.shape)"
      ],
      "metadata": {
        "colab": {
          "base_uri": "https://localhost:8080/"
        },
        "id": "OCHY3LmQ5WNq",
        "outputId": "e8c361a3-6725-4cff-93d3-445d826f13c6"
      },
      "execution_count": 17,
      "outputs": [
        {
          "output_type": "stream",
          "name": "stdout",
          "text": [
            "torch.Size([224, 224, 3])\n",
            "torch.Size([3, 3, 3])\n"
          ]
        }
      ]
    },
    {
      "cell_type": "markdown",
      "source": [
        "### Zero's and Ones Tensor"
      ],
      "metadata": {
        "id": "iWNJ9U63VwFL"
      }
    },
    {
      "cell_type": "code",
      "source": [
        "zeros = torch.zeros(2, 2)\n",
        "zeros"
      ],
      "metadata": {
        "colab": {
          "base_uri": "https://localhost:8080/"
        },
        "id": "eAaCRHAZWIkp",
        "outputId": "57b75e0a-5c8b-40d1-abcd-e72cb68a9580"
      },
      "execution_count": 18,
      "outputs": [
        {
          "output_type": "execute_result",
          "data": {
            "text/plain": [
              "tensor([[0., 0.],\n",
              "        [0., 0.]])"
            ]
          },
          "metadata": {},
          "execution_count": 18
        }
      ]
    },
    {
      "cell_type": "code",
      "source": [
        "ones = torch.ones(2, 2)\n",
        "ones"
      ],
      "metadata": {
        "colab": {
          "base_uri": "https://localhost:8080/"
        },
        "id": "8OhAN8PdWhHw",
        "outputId": "e808f005-3946-4958-af06-128ced7b86f9"
      },
      "execution_count": 19,
      "outputs": [
        {
          "output_type": "execute_result",
          "data": {
            "text/plain": [
              "tensor([[1., 1.],\n",
              "        [1., 1.]])"
            ]
          },
          "metadata": {},
          "execution_count": 19
        }
      ]
    },
    {
      "cell_type": "code",
      "source": [
        "# zeroes and ones can be used as masks - then multiply tensors\n",
        "zeros * ones"
      ],
      "metadata": {
        "colab": {
          "base_uri": "https://localhost:8080/"
        },
        "id": "thic3H5lWoTn",
        "outputId": "59fa07d6-c668-4e1e-bffc-74054fd16afb"
      },
      "execution_count": 20,
      "outputs": [
        {
          "output_type": "execute_result",
          "data": {
            "text/plain": [
              "tensor([[0., 0.],\n",
              "        [0., 0.]])"
            ]
          },
          "metadata": {},
          "execution_count": 20
        }
      ]
    },
    {
      "cell_type": "code",
      "source": [
        "# get type of values\n",
        "ones.dtype"
      ],
      "metadata": {
        "colab": {
          "base_uri": "https://localhost:8080/"
        },
        "id": "k1WfjBwGWqeQ",
        "outputId": "32835d77-b5a2-43b0-ea49-df388cea580e"
      },
      "execution_count": 21,
      "outputs": [
        {
          "output_type": "execute_result",
          "data": {
            "text/plain": [
              "torch.float32"
            ]
          },
          "metadata": {},
          "execution_count": 21
        }
      ]
    },
    {
      "cell_type": "code",
      "source": [
        "torch.range(0, 10)"
      ],
      "metadata": {
        "colab": {
          "base_uri": "https://localhost:8080/"
        },
        "id": "60V3NiahW8oh",
        "outputId": "fb8fb640-0648-4a41-bbd0-1dbfc97ffa76"
      },
      "execution_count": 22,
      "outputs": [
        {
          "output_type": "stream",
          "name": "stderr",
          "text": [
            "<ipython-input-22-cf0dcdb325c8>:1: UserWarning: torch.range is deprecated and will be removed in a future release because its behavior is inconsistent with Python's range builtin. Instead, use torch.arange, which produces values in [start, end).\n",
            "  torch.range(0, 10)\n"
          ]
        },
        {
          "output_type": "execute_result",
          "data": {
            "text/plain": [
              "tensor([ 0.,  1.,  2.,  3.,  4.,  5.,  6.,  7.,  8.,  9., 10.])"
            ]
          },
          "metadata": {},
          "execution_count": 22
        }
      ]
    },
    {
      "cell_type": "code",
      "source": [
        "# prefer torch.arange()\n",
        "tensor_range = torch.arange(0, 10)\n",
        "tensor_range"
      ],
      "metadata": {
        "colab": {
          "base_uri": "https://localhost:8080/"
        },
        "id": "czwCbGpIXga0",
        "outputId": "4188ba40-4516-40e8-fa20-3f495e3f5d21"
      },
      "execution_count": 23,
      "outputs": [
        {
          "output_type": "execute_result",
          "data": {
            "text/plain": [
              "tensor([0, 1, 2, 3, 4, 5, 6, 7, 8, 9])"
            ]
          },
          "metadata": {},
          "execution_count": 23
        }
      ]
    },
    {
      "cell_type": "code",
      "source": [
        "tensor_range.dtype  # note these are int64, not float32 like tensor created via rand, ones, zeros"
      ],
      "metadata": {
        "colab": {
          "base_uri": "https://localhost:8080/"
        },
        "id": "J37Ev5DlXodA",
        "outputId": "530f303e-cb69-4480-ec52-1c7dfc51505d"
      },
      "execution_count": 24,
      "outputs": [
        {
          "output_type": "execute_result",
          "data": {
            "text/plain": [
              "torch.int64"
            ]
          },
          "metadata": {},
          "execution_count": 24
        }
      ]
    },
    {
      "cell_type": "code",
      "source": [
        "to100 = torch.arange(0, 100, step=5)"
      ],
      "metadata": {
        "id": "Qu5BsA21YCMc"
      },
      "execution_count": 25,
      "outputs": []
    },
    {
      "cell_type": "code",
      "source": [
        "[a for a in range(0, 100, 5)]"
      ],
      "metadata": {
        "colab": {
          "base_uri": "https://localhost:8080/"
        },
        "id": "kaAu1kWZ4Aqx",
        "outputId": "aa4f62a4-fbba-4714-98fa-0f49f5969945"
      },
      "execution_count": 26,
      "outputs": [
        {
          "output_type": "execute_result",
          "data": {
            "text/plain": [
              "[0, 5, 10, 15, 20, 25, 30, 35, 40, 45, 50, 55, 60, 65, 70, 75, 80, 85, 90, 95]"
            ]
          },
          "metadata": {},
          "execution_count": 26
        }
      ]
    },
    {
      "cell_type": "code",
      "source": [
        "# tensors like - create tensor with same shape as another, with all zeroes\n",
        "ten_zeros = torch.zeros_like(input=to100)\n",
        "ten_zeros.size()"
      ],
      "metadata": {
        "colab": {
          "base_uri": "https://localhost:8080/"
        },
        "id": "3pTL5OrL4Heo",
        "outputId": "ebbee369-d2d2-4051-d09e-fb3a54f04d3d"
      },
      "execution_count": 27,
      "outputs": [
        {
          "output_type": "execute_result",
          "data": {
            "text/plain": [
              "torch.Size([20])"
            ]
          },
          "metadata": {},
          "execution_count": 27
        }
      ]
    },
    {
      "cell_type": "markdown",
      "source": [
        "## Tensor datatypes"
      ],
      "metadata": {
        "id": "dr4bVRAq5LxK"
      }
    },
    {
      "cell_type": "code",
      "source": [
        "fl32_tensor = torch.tensor([], dtype=torch.float32)\n",
        "fl32_tensor.dtype"
      ],
      "metadata": {
        "colab": {
          "base_uri": "https://localhost:8080/"
        },
        "id": "qMJECJ_t5Q9_",
        "outputId": "f44f68d6-79a7-4855-e3ce-97ff4944dac0"
      },
      "execution_count": 28,
      "outputs": [
        {
          "output_type": "execute_result",
          "data": {
            "text/plain": [
              "torch.float32"
            ]
          },
          "metadata": {},
          "execution_count": 28
        }
      ]
    },
    {
      "cell_type": "code",
      "source": [
        "fl32_tensor.device"
      ],
      "metadata": {
        "id": "weAa_QZKEvhV",
        "colab": {
          "base_uri": "https://localhost:8080/"
        },
        "outputId": "37de3a13-55dd-4fe2-e71b-649654b4b6ae"
      },
      "execution_count": 29,
      "outputs": [
        {
          "output_type": "execute_result",
          "data": {
            "text/plain": [
              "device(type='cpu')"
            ]
          },
          "metadata": {},
          "execution_count": 29
        }
      ]
    },
    {
      "cell_type": "markdown",
      "source": [
        "## Tensor Operations"
      ],
      "metadata": {
        "id": "KRjs-8-6IlkK"
      }
    },
    {
      "cell_type": "code",
      "source": [
        "tensor = torch.tensor([1, 2, 3])\n",
        "tensor + 1"
      ],
      "metadata": {
        "colab": {
          "base_uri": "https://localhost:8080/"
        },
        "id": "MVLTvDnXIf-A",
        "outputId": "00771a71-4f59-43b8-8ddc-5a6a98774d64"
      },
      "execution_count": 30,
      "outputs": [
        {
          "output_type": "execute_result",
          "data": {
            "text/plain": [
              "tensor([2, 3, 4])"
            ]
          },
          "metadata": {},
          "execution_count": 30
        }
      ]
    },
    {
      "cell_type": "code",
      "source": [
        "tensor + 3"
      ],
      "metadata": {
        "colab": {
          "base_uri": "https://localhost:8080/"
        },
        "id": "nfPtFcOfIuyy",
        "outputId": "a1f04fbf-294f-40dc-84c0-ab5648b66527"
      },
      "execution_count": 31,
      "outputs": [
        {
          "output_type": "execute_result",
          "data": {
            "text/plain": [
              "tensor([4, 5, 6])"
            ]
          },
          "metadata": {},
          "execution_count": 31
        }
      ]
    },
    {
      "cell_type": "code",
      "source": [
        "tensor * 2"
      ],
      "metadata": {
        "colab": {
          "base_uri": "https://localhost:8080/"
        },
        "id": "nyqu9JlCIwM4",
        "outputId": "7bbd7a55-685c-4831-ae27-8418cf5a94ce"
      },
      "execution_count": 32,
      "outputs": [
        {
          "output_type": "execute_result",
          "data": {
            "text/plain": [
              "tensor([2, 4, 6])"
            ]
          },
          "metadata": {},
          "execution_count": 32
        }
      ]
    },
    {
      "cell_type": "code",
      "source": [
        "tensor -1"
      ],
      "metadata": {
        "colab": {
          "base_uri": "https://localhost:8080/"
        },
        "id": "r_haC06pIykL",
        "outputId": "3b2c3b29-db37-478a-a0a6-945d29278dff"
      },
      "execution_count": 33,
      "outputs": [
        {
          "output_type": "execute_result",
          "data": {
            "text/plain": [
              "tensor([0, 1, 2])"
            ]
          },
          "metadata": {},
          "execution_count": 33
        }
      ]
    },
    {
      "cell_type": "code",
      "source": [
        "tensor * tensor"
      ],
      "metadata": {
        "colab": {
          "base_uri": "https://localhost:8080/"
        },
        "id": "m88a6Xh9I4LC",
        "outputId": "9f49680d-baed-4615-a995-7a8754a38ac3"
      },
      "execution_count": 34,
      "outputs": [
        {
          "output_type": "execute_result",
          "data": {
            "text/plain": [
              "tensor([1, 4, 9])"
            ]
          },
          "metadata": {},
          "execution_count": 34
        }
      ]
    },
    {
      "cell_type": "code",
      "source": [
        "tensor + tensor"
      ],
      "metadata": {
        "colab": {
          "base_uri": "https://localhost:8080/"
        },
        "id": "jFIQKvU6JDrJ",
        "outputId": "b83dde80-1fc4-46a0-ee5f-333bca7edfe6"
      },
      "execution_count": 35,
      "outputs": [
        {
          "output_type": "execute_result",
          "data": {
            "text/plain": [
              "tensor([2, 4, 6])"
            ]
          },
          "metadata": {},
          "execution_count": 35
        }
      ]
    },
    {
      "cell_type": "markdown",
      "source": [
        "## Matrix Multiplication\n",
        "\n",
        "using `tensor.matmul(tensor1, tensor2)` or the rarer `tensor1 @ tensor2` syntax\n",
        "\n",
        "### some rules\n",
        "\n",
        "- inner dimensions must match i.e. [2, 2] x [2, 3] is ok [2, 2] x [3, 2] is NOT\n",
        "- result shape will be based on outer dinemsions"
      ],
      "metadata": {
        "id": "NpjZIxqtcQbi"
      }
    },
    {
      "cell_type": "code",
      "source": [
        "tensor1 = torch.rand(4,2, dtype=torch.float64)\n",
        "tensor2 = torch.rand(2,3, dtype=torch.float64)\n",
        "tensor1, tensor2"
      ],
      "metadata": {
        "colab": {
          "base_uri": "https://localhost:8080/"
        },
        "id": "C4gRJjK3JMKv",
        "outputId": "fa6ab080-1661-41a9-bd3a-95ec8d13ac9e"
      },
      "execution_count": 36,
      "outputs": [
        {
          "output_type": "execute_result",
          "data": {
            "text/plain": [
              "(tensor([[0.4509, 0.3692],\n",
              "         [0.3191, 0.2469],\n",
              "         [0.6249, 0.1640],\n",
              "         [0.0094, 0.9956]], dtype=torch.float64),\n",
              " tensor([[0.5598, 0.4860, 0.8689],\n",
              "         [0.7013, 0.2997, 0.4652]], dtype=torch.float64))"
            ]
          },
          "metadata": {},
          "execution_count": 36
        }
      ]
    },
    {
      "cell_type": "code",
      "source": [
        "torch.matmul(tensor1.type(torch.float32), tensor2.type(torch.float32)).shape  # expect [4, 3] output based on outer dimensions"
      ],
      "metadata": {
        "colab": {
          "base_uri": "https://localhost:8080/"
        },
        "id": "jNIZSbHiKrWF",
        "outputId": "231aaec9-5856-4e47-df67-a54176fec466"
      },
      "execution_count": 37,
      "outputs": [
        {
          "output_type": "execute_result",
          "data": {
            "text/plain": [
              "torch.Size([4, 3])"
            ]
          },
          "metadata": {},
          "execution_count": 37
        }
      ]
    },
    {
      "cell_type": "code",
      "source": [
        "torch.mm(tensor1.type(torch.float32), tensor2.type(torch.float32))  # mm is an alias for matmul"
      ],
      "metadata": {
        "colab": {
          "base_uri": "https://localhost:8080/"
        },
        "id": "AlFw7TX_hR2a",
        "outputId": "252d9591-e85f-45f3-a65a-33221745cc25"
      },
      "execution_count": 38,
      "outputs": [
        {
          "output_type": "execute_result",
          "data": {
            "text/plain": [
              "tensor([[0.5113, 0.3298, 0.5635],\n",
              "        [0.3517, 0.2291, 0.3921],\n",
              "        [0.4649, 0.3529, 0.6193],\n",
              "        [0.7035, 0.3030, 0.4713]])"
            ]
          },
          "metadata": {},
          "execution_count": 38
        }
      ]
    },
    {
      "cell_type": "code",
      "source": [
        "try:\n",
        "  torch.matmul(tensor2, tensor1)  # this causes an error as inner dimensions do not match\n",
        "  assert False  # does not get here\n",
        "except RuntimeError as error:\n",
        "  print(f'expected error:{type(error)} {error}')"
      ],
      "metadata": {
        "colab": {
          "base_uri": "https://localhost:8080/"
        },
        "id": "c9YgXxnmdd_w",
        "outputId": "99fcc63c-75ff-4282-9de5-9f8eda56abf4"
      },
      "execution_count": 39,
      "outputs": [
        {
          "output_type": "stream",
          "name": "stdout",
          "text": [
            "expected error:<class 'RuntimeError'> mat1 and mat2 shapes cannot be multiplied (2x3 and 4x2)\n"
          ]
        }
      ]
    },
    {
      "cell_type": "markdown",
      "source": [
        "### Transposing (2x3 to 3x2)"
      ],
      "metadata": {
        "id": "CkCezB21AIJE"
      }
    },
    {
      "cell_type": "code",
      "source": [
        "tensor2, tensor2.T"
      ],
      "metadata": {
        "colab": {
          "base_uri": "https://localhost:8080/"
        },
        "id": "fXc7M-_iduPh",
        "outputId": "db9375bb-166b-43ea-b709-729729781d27"
      },
      "execution_count": 40,
      "outputs": [
        {
          "output_type": "execute_result",
          "data": {
            "text/plain": [
              "(tensor([[0.5598, 0.4860, 0.8689],\n",
              "         [0.7013, 0.2997, 0.4652]], dtype=torch.float64),\n",
              " tensor([[0.5598, 0.7013],\n",
              "         [0.4860, 0.2997],\n",
              "         [0.8689, 0.4652]], dtype=torch.float64))"
            ]
          },
          "metadata": {},
          "execution_count": 40
        }
      ]
    },
    {
      "cell_type": "code",
      "source": [
        "# convert a tensor to specific type\n",
        "tensor2.type(torch.float16).dtype"
      ],
      "metadata": {
        "colab": {
          "base_uri": "https://localhost:8080/"
        },
        "id": "YILViGArihEF",
        "outputId": "14cfafbe-8494-4d70-cd7c-8b4e5e6b4124"
      },
      "execution_count": 41,
      "outputs": [
        {
          "output_type": "execute_result",
          "data": {
            "text/plain": [
              "torch.float16"
            ]
          },
          "metadata": {},
          "execution_count": 41
        }
      ]
    },
    {
      "cell_type": "markdown",
      "source": [
        "## Aggregate methods - min, max, mean, avg etc\n",
        "\n",
        "- each method has two aliases: torch.min(t) or t.min() where t is a tensor"
      ],
      "metadata": {
        "id": "ISRmoA_-k9qX"
      }
    },
    {
      "cell_type": "code",
      "source": [
        "tensor2.min(), torch.min(tensor2)"
      ],
      "metadata": {
        "colab": {
          "base_uri": "https://localhost:8080/"
        },
        "id": "6YEUWR-olG2V",
        "outputId": "a2a8d645-4dc1-4ba5-ab78-78e6e9fbaa99"
      },
      "execution_count": 42,
      "outputs": [
        {
          "output_type": "execute_result",
          "data": {
            "text/plain": [
              "(tensor(0.2997, dtype=torch.float64), tensor(0.2997, dtype=torch.float64))"
            ]
          },
          "metadata": {},
          "execution_count": 42
        }
      ]
    },
    {
      "cell_type": "code",
      "source": [
        "tensor2.max(), torch.max(tensor2)"
      ],
      "metadata": {
        "colab": {
          "base_uri": "https://localhost:8080/"
        },
        "id": "5aDI0tg69ZzY",
        "outputId": "fbdabd99-8ced-45e1-ff0e-7a54055a175c"
      },
      "execution_count": 43,
      "outputs": [
        {
          "output_type": "execute_result",
          "data": {
            "text/plain": [
              "(tensor(0.8689, dtype=torch.float64), tensor(0.8689, dtype=torch.float64))"
            ]
          },
          "metadata": {},
          "execution_count": 43
        }
      ]
    },
    {
      "cell_type": "code",
      "source": [
        "tensor2.mean(), torch.mean(tensor2)"
      ],
      "metadata": {
        "colab": {
          "base_uri": "https://localhost:8080/"
        },
        "id": "bj2c3lUS9_2x",
        "outputId": "40b69572-13a3-4f57-ada6-965a4015116d"
      },
      "execution_count": 44,
      "outputs": [
        {
          "output_type": "execute_result",
          "data": {
            "text/plain": [
              "(tensor(0.5635, dtype=torch.float64), tensor(0.5635, dtype=torch.float64))"
            ]
          },
          "metadata": {},
          "execution_count": 44
        }
      ]
    },
    {
      "cell_type": "code",
      "source": [
        "tensor2.sum(), torch.sum(tensor2)"
      ],
      "metadata": {
        "colab": {
          "base_uri": "https://localhost:8080/"
        },
        "id": "NHZAuRnA-CXJ",
        "outputId": "56b7df6e-378b-409e-b51c-a5337a6d4f03"
      },
      "execution_count": 45,
      "outputs": [
        {
          "output_type": "execute_result",
          "data": {
            "text/plain": [
              "(tensor(3.3810, dtype=torch.float64), tensor(3.3810, dtype=torch.float64))"
            ]
          },
          "metadata": {},
          "execution_count": 45
        }
      ]
    },
    {
      "cell_type": "code",
      "source": [
        "tensor2.argmin(), tensor2.argmax()"
      ],
      "metadata": {
        "colab": {
          "base_uri": "https://localhost:8080/"
        },
        "id": "B8heVbu5BOYJ",
        "outputId": "d45553e4-f73a-453b-a8a1-6cc232c39059"
      },
      "execution_count": 46,
      "outputs": [
        {
          "output_type": "execute_result",
          "data": {
            "text/plain": [
              "(tensor(4), tensor(2))"
            ]
          },
          "metadata": {},
          "execution_count": 46
        }
      ]
    },
    {
      "cell_type": "code",
      "source": [
        "\n",
        "tensor2[1]"
      ],
      "metadata": {
        "colab": {
          "base_uri": "https://localhost:8080/"
        },
        "id": "A_YcgMWvmtZg",
        "outputId": "2a4483da-8c0f-4fce-8e05-a4937fc7808e"
      },
      "execution_count": 47,
      "outputs": [
        {
          "output_type": "execute_result",
          "data": {
            "text/plain": [
              "tensor([0.7013, 0.2997, 0.4652], dtype=torch.float64)"
            ]
          },
          "metadata": {},
          "execution_count": 47
        }
      ]
    },
    {
      "cell_type": "markdown",
      "source": [
        "## Reshaping, viewing, stacking, squeezing, and unqueezing\n",
        "\n",
        "- view = a perspective on a tensor without creating a  new one\n",
        "- stack = can be vertical or horizontal\n",
        "- squeezing = removes all '1' dimensions from a tensor (???)\n",
        "- permute - returns a view with dimensions swapped/permuted"
      ],
      "metadata": {
        "id": "Xm1dn8iGm9ii"
      }
    },
    {
      "cell_type": "code",
      "source": [
        "x = torch.arange(1.0, 10.0)\n",
        "x, x.shape"
      ],
      "metadata": {
        "colab": {
          "base_uri": "https://localhost:8080/"
        },
        "id": "2T9zCPVxolU3",
        "outputId": "6987cdc3-6e79-4fc4-a7e6-76bdbf8bd7a4"
      },
      "execution_count": 48,
      "outputs": [
        {
          "output_type": "execute_result",
          "data": {
            "text/plain": [
              "(tensor([1., 2., 3., 4., 5., 6., 7., 8., 9.]), torch.Size([9]))"
            ]
          },
          "metadata": {},
          "execution_count": 48
        }
      ]
    },
    {
      "cell_type": "code",
      "source": [
        "x.reshape(3, 3)"
      ],
      "metadata": {
        "colab": {
          "base_uri": "https://localhost:8080/"
        },
        "id": "Wy-LUHQuoz-d",
        "outputId": "c7503602-7b9a-4a2c-cc66-0256b87380b3"
      },
      "execution_count": 49,
      "outputs": [
        {
          "output_type": "execute_result",
          "data": {
            "text/plain": [
              "tensor([[1., 2., 3.],\n",
              "        [4., 5., 6.],\n",
              "        [7., 8., 9.]])"
            ]
          },
          "metadata": {},
          "execution_count": 49
        }
      ]
    },
    {
      "cell_type": "code",
      "source": [
        "z = x.view(1, 9)\n",
        "z, x"
      ],
      "metadata": {
        "colab": {
          "base_uri": "https://localhost:8080/"
        },
        "id": "1SKB5GNGt0fQ",
        "outputId": "07c62d51-bc28-4aab-efaa-e6bf8598dad6"
      },
      "execution_count": 50,
      "outputs": [
        {
          "output_type": "execute_result",
          "data": {
            "text/plain": [
              "(tensor([[1., 2., 3., 4., 5., 6., 7., 8., 9.]]),\n",
              " tensor([1., 2., 3., 4., 5., 6., 7., 8., 9.]))"
            ]
          },
          "metadata": {},
          "execution_count": 50
        }
      ]
    },
    {
      "cell_type": "code",
      "source": [
        "z[:,0] = 10.0\n",
        "z, x"
      ],
      "metadata": {
        "colab": {
          "base_uri": "https://localhost:8080/"
        },
        "id": "F0HyKSLRwG9g",
        "outputId": "b8fd9bf0-79a2-475e-dfff-d1ecd4ba8a57"
      },
      "execution_count": 51,
      "outputs": [
        {
          "output_type": "execute_result",
          "data": {
            "text/plain": [
              "(tensor([[10.,  2.,  3.,  4.,  5.,  6.,  7.,  8.,  9.]]),\n",
              " tensor([10.,  2.,  3.,  4.,  5.,  6.,  7.,  8.,  9.]))"
            ]
          },
          "metadata": {},
          "execution_count": 51
        }
      ]
    },
    {
      "cell_type": "code",
      "source": [
        "x"
      ],
      "metadata": {
        "colab": {
          "base_uri": "https://localhost:8080/"
        },
        "id": "yxq6eN10wV2q",
        "outputId": "cb10f363-8106-4ad4-a0c8-c73f305bc8f9"
      },
      "execution_count": 52,
      "outputs": [
        {
          "output_type": "execute_result",
          "data": {
            "text/plain": [
              "tensor([10.,  2.,  3.,  4.,  5.,  6.,  7.,  8.,  9.])"
            ]
          },
          "metadata": {},
          "execution_count": 52
        }
      ]
    },
    {
      "cell_type": "code",
      "source": [
        "torch.stack([x, x, x], dim=1)"
      ],
      "metadata": {
        "colab": {
          "base_uri": "https://localhost:8080/"
        },
        "id": "gic_wVAZwXuQ",
        "outputId": "cc2ff3e1-9044-4f54-971d-4c148344b63b"
      },
      "execution_count": 53,
      "outputs": [
        {
          "output_type": "execute_result",
          "data": {
            "text/plain": [
              "tensor([[10., 10., 10.],\n",
              "        [ 2.,  2.,  2.],\n",
              "        [ 3.,  3.,  3.],\n",
              "        [ 4.,  4.,  4.],\n",
              "        [ 5.,  5.,  5.],\n",
              "        [ 6.,  6.,  6.],\n",
              "        [ 7.,  7.,  7.],\n",
              "        [ 8.,  8.,  8.],\n",
              "        [ 9.,  9.,  9.]])"
            ]
          },
          "metadata": {},
          "execution_count": 53
        }
      ]
    },
    {
      "cell_type": "code",
      "source": [
        "z"
      ],
      "metadata": {
        "id": "Cas7qMAD5Q4G",
        "colab": {
          "base_uri": "https://localhost:8080/"
        },
        "outputId": "1124c2bf-e25f-4999-92da-a031ddbc7fc3"
      },
      "execution_count": 54,
      "outputs": [
        {
          "output_type": "execute_result",
          "data": {
            "text/plain": [
              "tensor([[10.,  2.,  3.,  4.,  5.,  6.,  7.,  8.,  9.]])"
            ]
          },
          "metadata": {},
          "execution_count": 54
        }
      ]
    },
    {
      "cell_type": "code",
      "source": [
        "z.squeeze(), z  # remove the 'unnecessary' outer dimension"
      ],
      "metadata": {
        "colab": {
          "base_uri": "https://localhost:8080/"
        },
        "id": "PmInZJ9fpIPG",
        "outputId": "d58ec0e1-3306-4ac5-a7cf-486f4034fa27"
      },
      "execution_count": 55,
      "outputs": [
        {
          "output_type": "execute_result",
          "data": {
            "text/plain": [
              "(tensor([10.,  2.,  3.,  4.,  5.,  6.,  7.,  8.,  9.]),\n",
              " tensor([[10.,  2.,  3.,  4.,  5.,  6.,  7.,  8.,  9.]]))"
            ]
          },
          "metadata": {},
          "execution_count": 55
        }
      ]
    },
    {
      "cell_type": "code",
      "source": [
        "x = torch.zeros(2, 1, 2, 1, 2)\n",
        "x.shape"
      ],
      "metadata": {
        "colab": {
          "base_uri": "https://localhost:8080/"
        },
        "id": "LCyzDe0VpKJj",
        "outputId": "8c16902a-6b4b-4bc6-f4ca-860ce715a95a"
      },
      "execution_count": 56,
      "outputs": [
        {
          "output_type": "execute_result",
          "data": {
            "text/plain": [
              "torch.Size([2, 1, 2, 1, 2])"
            ]
          },
          "metadata": {},
          "execution_count": 56
        }
      ]
    },
    {
      "cell_type": "code",
      "source": [
        "y = x.squeeze()\n",
        "y.shape"
      ],
      "metadata": {
        "colab": {
          "base_uri": "https://localhost:8080/"
        },
        "id": "33HHEZETuHTg",
        "outputId": "d7d572f4-8946-42b2-de55-8e51eb7fa01c"
      },
      "execution_count": 57,
      "outputs": [
        {
          "output_type": "execute_result",
          "data": {
            "text/plain": [
              "torch.Size([2, 2, 2])"
            ]
          },
          "metadata": {},
          "execution_count": 57
        }
      ]
    },
    {
      "cell_type": "code",
      "source": [
        "y = x.squeeze(0)  # dim 0 is not of size 1, so no effect\n",
        "y.shape"
      ],
      "metadata": {
        "colab": {
          "base_uri": "https://localhost:8080/"
        },
        "id": "BU1LSVUBuMFl",
        "outputId": "c9980eef-d793-4c9b-f10d-5312fd7923a4"
      },
      "execution_count": 58,
      "outputs": [
        {
          "output_type": "execute_result",
          "data": {
            "text/plain": [
              "torch.Size([2, 1, 2, 1, 2])"
            ]
          },
          "metadata": {},
          "execution_count": 58
        }
      ]
    },
    {
      "cell_type": "code",
      "source": [
        "y = x.squeeze(1, 2, 3)  # dim's 1 and 3 are size 1, so these are removed\n",
        "y.shape\n",
        "# note: no effect on dim 2 as it is not of size 1"
      ],
      "metadata": {
        "colab": {
          "base_uri": "https://localhost:8080/"
        },
        "id": "ouLkqr5xvoYO",
        "outputId": "6c928486-e026-4884-f523-0b42304d433f"
      },
      "execution_count": 59,
      "outputs": [
        {
          "output_type": "execute_result",
          "data": {
            "text/plain": [
              "torch.Size([2, 2, 2])"
            ]
          },
          "metadata": {},
          "execution_count": 59
        }
      ]
    },
    {
      "cell_type": "code",
      "source": [
        "y.unsqueeze(dim=1).shape, y.shape  # insert a new dimension at dim 0"
      ],
      "metadata": {
        "colab": {
          "base_uri": "https://localhost:8080/"
        },
        "id": "EI86-RHrv3t5",
        "outputId": "e25b7782-2461-4ad4-a4f6-04c1f90704ca"
      },
      "execution_count": 60,
      "outputs": [
        {
          "output_type": "execute_result",
          "data": {
            "text/plain": [
              "(torch.Size([2, 1, 2, 2]), torch.Size([2, 2, 2]))"
            ]
          },
          "metadata": {},
          "execution_count": 60
        }
      ]
    },
    {
      "cell_type": "code",
      "source": [
        "y.unsqueeze(dim=0).shape, y.shape  #same as dim 1"
      ],
      "metadata": {
        "colab": {
          "base_uri": "https://localhost:8080/"
        },
        "id": "y6V2NHCXw9aA",
        "outputId": "b3b26cc9-e6de-42d2-bcba-d687532bb77d"
      },
      "execution_count": 61,
      "outputs": [
        {
          "output_type": "execute_result",
          "data": {
            "text/plain": [
              "(torch.Size([1, 2, 2, 2]), torch.Size([2, 2, 2]))"
            ]
          },
          "metadata": {},
          "execution_count": 61
        }
      ]
    },
    {
      "cell_type": "code",
      "source": [
        "x.shape"
      ],
      "metadata": {
        "colab": {
          "base_uri": "https://localhost:8080/"
        },
        "id": "9-I5TNcgxMl2",
        "outputId": "4ef7dce4-5cc9-4380-84a8-9ae9f20a36e0"
      },
      "execution_count": 62,
      "outputs": [
        {
          "output_type": "execute_result",
          "data": {
            "text/plain": [
              "torch.Size([2, 1, 2, 1, 2])"
            ]
          },
          "metadata": {},
          "execution_count": 62
        }
      ]
    },
    {
      "cell_type": "code",
      "source": [
        "x.permute(1,3,0,2,4).shape  # re-order the dimensions of a tensor"
      ],
      "metadata": {
        "colab": {
          "base_uri": "https://localhost:8080/"
        },
        "id": "BhDmEptfykun",
        "outputId": "5d3c1fa1-2e2a-489e-a3e7-8bd0e1694cc1"
      },
      "execution_count": 63,
      "outputs": [
        {
          "output_type": "execute_result",
          "data": {
            "text/plain": [
              "torch.Size([1, 1, 2, 2, 2])"
            ]
          },
          "metadata": {},
          "execution_count": 63
        }
      ]
    },
    {
      "cell_type": "code",
      "source": [
        "img = torch.rand(8, 8, 3)  # a very small image 8x8 with RGB\n",
        "img.permute(2, 0, 1)"
      ],
      "metadata": {
        "colab": {
          "base_uri": "https://localhost:8080/"
        },
        "id": "X5NmpJWMytZG",
        "outputId": "a76d9b6c-2f8e-4067-e5cc-6a35f05a38da"
      },
      "execution_count": 64,
      "outputs": [
        {
          "output_type": "execute_result",
          "data": {
            "text/plain": [
              "tensor([[[0.5910, 0.5918, 0.4302, 0.3310, 0.3129, 0.8569, 0.0705, 0.8234],\n",
              "         [0.2101, 0.5420, 0.2089, 0.9374, 0.3595, 0.3467, 0.0240, 0.0086],\n",
              "         [0.9458, 0.1113, 0.4778, 0.6395, 0.3698, 0.1868, 0.5171, 0.4313],\n",
              "         [0.3580, 0.1759, 0.3956, 0.6821, 0.2338, 0.7532, 0.1798, 0.3625],\n",
              "         [0.3498, 0.8186, 0.6749, 0.5640, 0.3783, 0.8658, 0.8607, 0.6466],\n",
              "         [0.1639, 0.9764, 0.0434, 0.0538, 0.8287, 0.1731, 0.0338, 0.5727],\n",
              "         [0.7025, 0.8528, 0.4827, 0.3442, 0.3389, 0.4443, 0.9020, 0.1823],\n",
              "         [0.3099, 0.0516, 0.3458, 0.8303, 0.3366, 0.8088, 0.0758, 0.1269]],\n",
              "\n",
              "        [[0.0996, 0.1276, 0.8556, 0.7254, 0.8657, 0.8450, 0.1014, 0.9431],\n",
              "         [0.4270, 0.6575, 0.4491, 0.1172, 0.6034, 0.9710, 0.3315, 0.6740],\n",
              "         [0.8304, 0.6605, 0.2375, 0.8114, 0.2799, 0.7039, 0.3193, 0.7222],\n",
              "         [0.4793, 0.7311, 0.7085, 0.1568, 0.1956, 0.7836, 0.2124, 0.0592],\n",
              "         [0.8975, 0.1384, 0.2884, 0.8151, 0.0072, 0.3729, 0.0988, 0.2963],\n",
              "         [0.7099, 0.0252, 0.9160, 0.3348, 0.6722, 0.1051, 0.5960, 0.2757],\n",
              "         [0.9615, 0.4121, 0.8000, 0.7484, 0.7712, 0.6740, 0.4790, 0.3474],\n",
              "         [0.5786, 0.7384, 0.9623, 0.2266, 0.7032, 0.1578, 0.2179, 0.4191]],\n",
              "\n",
              "        [[0.0993, 0.2931, 0.5891, 0.4963, 0.6080, 0.2152, 0.3316, 0.3627],\n",
              "         [0.3410, 0.3070, 0.6147, 0.4669, 0.3084, 0.6369, 0.5277, 0.2420],\n",
              "         [0.6663, 0.7777, 0.0818, 0.0155, 0.6771, 0.7675, 0.9708, 0.7512],\n",
              "         [0.4799, 0.3956, 0.2721, 0.5934, 0.9730, 0.5899, 0.7058, 0.4892],\n",
              "         [0.4615, 0.6207, 0.8670, 0.6653, 0.6857, 0.6426, 0.9310, 0.4523],\n",
              "         [0.2122, 0.2832, 0.8761, 0.9774, 0.7500, 0.1256, 0.4909, 0.4032],\n",
              "         [0.9499, 0.5843, 0.7127, 0.3933, 0.8479, 0.4041, 0.7249, 0.6711],\n",
              "         [0.3645, 0.5426, 0.7811, 0.5418, 0.7115, 0.0433, 0.5859, 0.5583]]])"
            ]
          },
          "metadata": {},
          "execution_count": 64
        }
      ]
    },
    {
      "cell_type": "markdown",
      "source": [
        "## Indexing\n",
        "\n",
        "PyTorch is similar to Numpy"
      ],
      "metadata": {
        "id": "fvAVYPTI5KT3"
      }
    },
    {
      "cell_type": "code",
      "source": [
        "x = torch.arange(1, 10).reshape(1, 3, 3)  # convert 1->9 to 1 x 3 x 3\n",
        "x, x.shape"
      ],
      "metadata": {
        "colab": {
          "base_uri": "https://localhost:8080/"
        },
        "id": "labuFeZ56tM0",
        "outputId": "4a9552fe-6b15-4838-a4f8-d2361243e426"
      },
      "execution_count": 65,
      "outputs": [
        {
          "output_type": "execute_result",
          "data": {
            "text/plain": [
              "(tensor([[[1, 2, 3],\n",
              "          [4, 5, 6],\n",
              "          [7, 8, 9]]]),\n",
              " torch.Size([1, 3, 3]))"
            ]
          },
          "metadata": {},
          "execution_count": 65
        }
      ]
    },
    {
      "cell_type": "code",
      "source": [
        "x[0]"
      ],
      "metadata": {
        "colab": {
          "base_uri": "https://localhost:8080/"
        },
        "id": "6-TwAYb767jf",
        "outputId": "bc43aa7f-1611-4888-eb39-14d3eb2f8fb6"
      },
      "execution_count": 66,
      "outputs": [
        {
          "output_type": "execute_result",
          "data": {
            "text/plain": [
              "tensor([[1, 2, 3],\n",
              "        [4, 5, 6],\n",
              "        [7, 8, 9]])"
            ]
          },
          "metadata": {},
          "execution_count": 66
        }
      ]
    },
    {
      "cell_type": "code",
      "source": [
        "x[0][0], x[0, 0]  # the same"
      ],
      "metadata": {
        "colab": {
          "base_uri": "https://localhost:8080/"
        },
        "id": "AOFEUm1u7OuJ",
        "outputId": "e6d2829f-f337-4968-a9d8-e79b4fdaa2ec"
      },
      "execution_count": 67,
      "outputs": [
        {
          "output_type": "execute_result",
          "data": {
            "text/plain": [
              "(tensor([1, 2, 3]), tensor([1, 2, 3]))"
            ]
          },
          "metadata": {},
          "execution_count": 67
        }
      ]
    },
    {
      "cell_type": "code",
      "source": [
        "x[0][0][0], x[0, 0, 0]  # the same"
      ],
      "metadata": {
        "colab": {
          "base_uri": "https://localhost:8080/"
        },
        "id": "nZ40UITO7TJh",
        "outputId": "325e32cd-24dc-4734-8b5f-a7401160ac38"
      },
      "execution_count": 68,
      "outputs": [
        {
          "output_type": "execute_result",
          "data": {
            "text/plain": [
              "(tensor(1), tensor(1))"
            ]
          },
          "metadata": {},
          "execution_count": 68
        }
      ]
    },
    {
      "cell_type": "code",
      "source": [
        "x[:, :, 1], x[:][:][0]  # get a column - only works for first syntax"
      ],
      "metadata": {
        "colab": {
          "base_uri": "https://localhost:8080/"
        },
        "id": "OQ-QijZ67e-q",
        "outputId": "2c5b133d-a309-45da-fb90-9ed76bc13ab9"
      },
      "execution_count": 69,
      "outputs": [
        {
          "output_type": "execute_result",
          "data": {
            "text/plain": [
              "(tensor([[2, 5, 8]]),\n",
              " tensor([[1, 2, 3],\n",
              "         [4, 5, 6],\n",
              "         [7, 8, 9]]))"
            ]
          },
          "metadata": {},
          "execution_count": 69
        }
      ]
    },
    {
      "cell_type": "code",
      "source": [
        "import numpy as np\n",
        "import torch"
      ],
      "metadata": {
        "id": "xOCVTo0A8LUm"
      },
      "execution_count": 70,
      "outputs": []
    },
    {
      "cell_type": "code",
      "source": [
        "np.__version__"
      ],
      "metadata": {
        "colab": {
          "base_uri": "https://localhost:8080/",
          "height": 35
        },
        "id": "sjRJdXkavL9p",
        "outputId": "01cac1b2-10db-41f6-8d24-8a30a3ae8e97"
      },
      "execution_count": 71,
      "outputs": [
        {
          "output_type": "execute_result",
          "data": {
            "text/plain": [
              "'1.23.5'"
            ],
            "application/vnd.google.colaboratory.intrinsic+json": {
              "type": "string"
            }
          },
          "metadata": {},
          "execution_count": 71
        }
      ]
    },
    {
      "cell_type": "code",
      "source": [
        "array = np.arange(1.0, 9.0)"
      ],
      "metadata": {
        "id": "LmXhlTqMvODa"
      },
      "execution_count": 72,
      "outputs": []
    },
    {
      "cell_type": "code",
      "source": [
        "# create a tensor from numpy array - inherits type from numpy array\n",
        "array, torch.from_numpy(array), array.dtype"
      ],
      "metadata": {
        "colab": {
          "base_uri": "https://localhost:8080/"
        },
        "id": "XqSN7c3xvT4D",
        "outputId": "6e34bd4a-df1d-4077-98d6-f4a9778d0d5f"
      },
      "execution_count": 73,
      "outputs": [
        {
          "output_type": "execute_result",
          "data": {
            "text/plain": [
              "(array([1., 2., 3., 4., 5., 6., 7., 8.]),\n",
              " tensor([1., 2., 3., 4., 5., 6., 7., 8.], dtype=torch.float64),\n",
              " dtype('float64'))"
            ]
          },
          "metadata": {},
          "execution_count": 73
        }
      ]
    },
    {
      "cell_type": "code",
      "source": [
        "t = torch.ones(5)\n",
        "t, t.numpy()"
      ],
      "metadata": {
        "colab": {
          "base_uri": "https://localhost:8080/"
        },
        "id": "o3xCbYqzvoEz",
        "outputId": "a8031b79-6109-4d72-dc2f-8bdc3dc1a517"
      },
      "execution_count": 74,
      "outputs": [
        {
          "output_type": "execute_result",
          "data": {
            "text/plain": [
              "(tensor([1., 1., 1., 1., 1.]), array([1., 1., 1., 1., 1.], dtype=float32))"
            ]
          },
          "metadata": {},
          "execution_count": 74
        }
      ]
    },
    {
      "cell_type": "markdown",
      "source": [
        "Reproducability (rand but not random)"
      ],
      "metadata": {
        "id": "MVFnWJP0woy3"
      }
    },
    {
      "cell_type": "code",
      "source": [
        "#r1 = torch.rand(2, 2)\n",
        "#r2 = torch.rand(2, 2)\n",
        "#r1 == r2  # these are VERY unlikely to be equal"
      ],
      "metadata": {
        "id": "XuiLaG8JxclR"
      },
      "execution_count": 75,
      "outputs": []
    },
    {
      "cell_type": "code",
      "source": [],
      "metadata": {
        "id": "HFf7zzcx0JtB"
      },
      "execution_count": 75,
      "outputs": []
    },
    {
      "cell_type": "code",
      "source": [
        "RANDOM_SEED=42 # try changing this to different values and see what happens to the numbers below\n",
        "torch.manual_seed(RANDOM_SEED)\n",
        "r1 = torch.rand(2, 2)\n",
        "torch.manual_seed(RANDOM_SEED)\n",
        "r2 = torch.rand(2, 2)\n",
        "\n",
        "r1, r2, r1 == r2  # these should be equal"
      ],
      "metadata": {
        "colab": {
          "base_uri": "https://localhost:8080/"
        },
        "id": "wNN0o1InxiEb",
        "outputId": "b1e40b98-aa75-48fe-b649-302cfe29d80c"
      },
      "execution_count": 76,
      "outputs": [
        {
          "output_type": "execute_result",
          "data": {
            "text/plain": [
              "(tensor([[0.8823, 0.9150],\n",
              "         [0.3829, 0.9593]]),\n",
              " tensor([[0.8823, 0.9150],\n",
              "         [0.3829, 0.9593]]),\n",
              " tensor([[True, True],\n",
              "         [True, True]]))"
            ]
          },
          "metadata": {},
          "execution_count": 76
        }
      ]
    },
    {
      "cell_type": "code",
      "source": [
        "!nvidia-smi"
      ],
      "metadata": {
        "id": "HLvYHYepx3pu",
        "colab": {
          "base_uri": "https://localhost:8080/"
        },
        "outputId": "02383355-73e5-45eb-ed04-c4e0e9a46329"
      },
      "execution_count": 77,
      "outputs": [
        {
          "output_type": "stream",
          "name": "stdout",
          "text": [
            "Wed Dec 20 20:37:22 2023       \n",
            "+---------------------------------------------------------------------------------------+\n",
            "| NVIDIA-SMI 535.104.05             Driver Version: 535.104.05   CUDA Version: 12.2     |\n",
            "|-----------------------------------------+----------------------+----------------------+\n",
            "| GPU  Name                 Persistence-M | Bus-Id        Disp.A | Volatile Uncorr. ECC |\n",
            "| Fan  Temp   Perf          Pwr:Usage/Cap |         Memory-Usage | GPU-Util  Compute M. |\n",
            "|                                         |                      |               MIG M. |\n",
            "|=========================================+======================+======================|\n",
            "|   0  Tesla T4                       Off | 00000000:00:04.0 Off |                    0 |\n",
            "| N/A   42C    P8              10W /  70W |      0MiB / 15360MiB |      0%      Default |\n",
            "|                                         |                      |                  N/A |\n",
            "+-----------------------------------------+----------------------+----------------------+\n",
            "                                                                                         \n",
            "+---------------------------------------------------------------------------------------+\n",
            "| Processes:                                                                            |\n",
            "|  GPU   GI   CI        PID   Type   Process name                            GPU Memory |\n",
            "|        ID   ID                                                             Usage      |\n",
            "|=======================================================================================|\n",
            "|  No running processes found                                                           |\n",
            "+---------------------------------------------------------------------------------------+\n"
          ]
        }
      ]
    },
    {
      "cell_type": "code",
      "source": [
        "torch.cuda.is_available()"
      ],
      "metadata": {
        "id": "1OxJYDJ36MfG",
        "colab": {
          "base_uri": "https://localhost:8080/"
        },
        "outputId": "230f13a6-b3c8-4cb3-f313-a94474f35039"
      },
      "execution_count": 78,
      "outputs": [
        {
          "output_type": "execute_result",
          "data": {
            "text/plain": [
              "True"
            ]
          },
          "metadata": {},
          "execution_count": 78
        }
      ]
    },
    {
      "cell_type": "code",
      "source": [
        "torch.cuda.device_count()"
      ],
      "metadata": {
        "colab": {
          "base_uri": "https://localhost:8080/"
        },
        "id": "dAiK_JKNou_d",
        "outputId": "4473197e-645a-483e-a52d-6036fec52625"
      },
      "execution_count": 79,
      "outputs": [
        {
          "output_type": "execute_result",
          "data": {
            "text/plain": [
              "1"
            ]
          },
          "metadata": {},
          "execution_count": 79
        }
      ]
    },
    {
      "cell_type": "code",
      "source": [
        "device = 'cuda' if torch.cuda.is_available() else 'cpu'\n",
        "t = torch.tensor([1,2,3])\n",
        "t, t.device"
      ],
      "metadata": {
        "colab": {
          "base_uri": "https://localhost:8080/"
        },
        "id": "T88GcdQQwJe_",
        "outputId": "73e9f2c8-25a4-4e21-b19e-857388dae8b2"
      },
      "execution_count": 82,
      "outputs": [
        {
          "output_type": "execute_result",
          "data": {
            "text/plain": [
              "(tensor([1, 2, 3]), device(type='cpu'))"
            ]
          },
          "metadata": {},
          "execution_count": 82
        }
      ]
    },
    {
      "cell_type": "code",
      "source": [
        "t_on_gpu = t.to(device)\n",
        "t_on_gpu"
      ],
      "metadata": {
        "colab": {
          "base_uri": "https://localhost:8080/"
        },
        "id": "Bz6GkISY8hmm",
        "outputId": "211d7f32-6812-44e6-db5f-95a34b6d1be2"
      },
      "execution_count": 84,
      "outputs": [
        {
          "output_type": "execute_result",
          "data": {
            "text/plain": [
              "tensor([1, 2, 3], device='cuda:0')"
            ]
          },
          "metadata": {},
          "execution_count": 84
        }
      ]
    },
    {
      "cell_type": "code",
      "source": [
        "t_on_cpu = t.to('cpu')  # i.e. if we want to use NumPy which only supports CPU\n",
        "t_on_cpu, t_on_cpu.numpy()"
      ],
      "metadata": {
        "colab": {
          "base_uri": "https://localhost:8080/"
        },
        "id": "tK9xpACz9HBg",
        "outputId": "4bafdfc5-4b76-4449-a6c3-3d67ce36542a"
      },
      "execution_count": 86,
      "outputs": [
        {
          "output_type": "execute_result",
          "data": {
            "text/plain": [
              "(tensor([1, 2, 3]), array([1, 2, 3]))"
            ]
          },
          "metadata": {},
          "execution_count": 86
        }
      ]
    },
    {
      "cell_type": "code",
      "source": [],
      "metadata": {
        "id": "XVnT3geR9au7"
      },
      "execution_count": null,
      "outputs": []
    }
  ]
}