{
  "nbformat": 4,
  "nbformat_minor": 0,
  "metadata": {
    "colab": {
      "provenance": [],
      "gpuType": "T4",
      "authorship_tag": "ABX9TyOMlwvi1IvWmK4PTmseAN38",
      "include_colab_link": true
    },
    "kernelspec": {
      "name": "python3",
      "display_name": "Python 3"
    },
    "language_info": {
      "name": "python"
    },
    "accelerator": "GPU"
  },
  "cells": [
    {
      "cell_type": "markdown",
      "metadata": {
        "id": "view-in-github",
        "colab_type": "text"
      },
      "source": [
        "<a href=\"https://colab.research.google.com/github/dave-howard/PyTorch/blob/main/00_pytorch_exercises.ipynb\" target=\"_parent\"><img src=\"https://colab.research.google.com/assets/colab-badge.svg\" alt=\"Open In Colab\"/></a>"
      ]
    },
    {
      "cell_type": "code",
      "execution_count": 2,
      "metadata": {
        "id": "ysW1GukTCfoP"
      },
      "outputs": [],
      "source": [
        "import torch"
      ]
    },
    {
      "cell_type": "markdown",
      "source": [
        "Create a random tensor with shape (7, 7)."
      ],
      "metadata": {
        "id": "uS3PqLoJCpHC"
      }
    },
    {
      "cell_type": "code",
      "source": [
        "t = torch.rand(7, 7)\n",
        "t"
      ],
      "metadata": {
        "colab": {
          "base_uri": "https://localhost:8080/"
        },
        "id": "-JbIJj3SCwQ4",
        "outputId": "98324dcc-2dac-4025-a2d5-dbabf853c724"
      },
      "execution_count": 3,
      "outputs": [
        {
          "output_type": "execute_result",
          "data": {
            "text/plain": [
              "tensor([[0.4464, 0.7262, 0.7978, 0.5282, 0.5291, 0.0395, 0.4445],\n",
              "        [0.7007, 0.1409, 0.5229, 0.8175, 0.5169, 0.7479, 0.1127],\n",
              "        [0.9831, 0.5576, 0.0797, 0.2035, 0.3374, 0.4936, 0.8173],\n",
              "        [0.9805, 0.0589, 0.5888, 0.0545, 0.7712, 0.8692, 0.7501],\n",
              "        [0.0249, 0.8778, 0.1847, 0.8977, 0.5147, 0.2224, 0.1602],\n",
              "        [0.9980, 0.6186, 0.3691, 0.0829, 0.0463, 0.9409, 0.1528],\n",
              "        [0.6104, 0.5196, 0.1571, 0.7471, 0.8060, 0.0117, 0.4592]])"
            ]
          },
          "metadata": {},
          "execution_count": 3
        }
      ]
    },
    {
      "cell_type": "code",
      "source": [
        "t2 = torch.rand(1, 7)\n",
        "t3 = t2.transpose(1, 0)  # change order of dimensions\n",
        "t, t2, t3, torch.mm(t, t3)"
      ],
      "metadata": {
        "colab": {
          "base_uri": "https://localhost:8080/"
        },
        "id": "Js3c86VACzoX",
        "outputId": "3a25a859-8e1a-46bb-fe53-6ea4ec01f917"
      },
      "execution_count": 4,
      "outputs": [
        {
          "output_type": "execute_result",
          "data": {
            "text/plain": [
              "(tensor([[0.4464, 0.7262, 0.7978, 0.5282, 0.5291, 0.0395, 0.4445],\n",
              "         [0.7007, 0.1409, 0.5229, 0.8175, 0.5169, 0.7479, 0.1127],\n",
              "         [0.9831, 0.5576, 0.0797, 0.2035, 0.3374, 0.4936, 0.8173],\n",
              "         [0.9805, 0.0589, 0.5888, 0.0545, 0.7712, 0.8692, 0.7501],\n",
              "         [0.0249, 0.8778, 0.1847, 0.8977, 0.5147, 0.2224, 0.1602],\n",
              "         [0.9980, 0.6186, 0.3691, 0.0829, 0.0463, 0.9409, 0.1528],\n",
              "         [0.6104, 0.5196, 0.1571, 0.7471, 0.8060, 0.0117, 0.4592]]),\n",
              " tensor([[0.2401, 0.6997, 0.3215, 0.9774, 0.0588, 0.5581, 0.2819]]),\n",
              " tensor([[0.2401],\n",
              "         [0.6997],\n",
              "         [0.3215],\n",
              "         [0.9774],\n",
              "         [0.0588],\n",
              "         [0.5581],\n",
              "         [0.2819]]),\n",
              " tensor([[1.5665],\n",
              "         [1.7135],\n",
              "         [1.3765],\n",
              "         [1.2610],\n",
              "         [1.7564],\n",
              "         [1.4430],\n",
              "         [1.4742]]))"
            ]
          },
          "metadata": {},
          "execution_count": 4
        }
      ]
    },
    {
      "cell_type": "code",
      "source": [
        "torch.manual_seed(0)\n",
        "t = torch.rand(7, 7)\n",
        "t2 = torch.rand(1, 7)\n",
        "t3 = t2.transpose(1, 0)  # change order of dimensions\n",
        "t, t2, t3, torch.mm(t, t3)"
      ],
      "metadata": {
        "colab": {
          "base_uri": "https://localhost:8080/"
        },
        "id": "g0eFpL6xDB-G",
        "outputId": "424f7179-59ee-445a-cde5-580f75876a0c"
      },
      "execution_count": 5,
      "outputs": [
        {
          "output_type": "execute_result",
          "data": {
            "text/plain": [
              "(tensor([[0.4963, 0.7682, 0.0885, 0.1320, 0.3074, 0.6341, 0.4901],\n",
              "         [0.8964, 0.4556, 0.6323, 0.3489, 0.4017, 0.0223, 0.1689],\n",
              "         [0.2939, 0.5185, 0.6977, 0.8000, 0.1610, 0.2823, 0.6816],\n",
              "         [0.9152, 0.3971, 0.8742, 0.4194, 0.5529, 0.9527, 0.0362],\n",
              "         [0.1852, 0.3734, 0.3051, 0.9320, 0.1759, 0.2698, 0.1507],\n",
              "         [0.0317, 0.2081, 0.9298, 0.7231, 0.7423, 0.5263, 0.2437],\n",
              "         [0.5846, 0.0332, 0.1387, 0.2422, 0.8155, 0.7932, 0.2783]]),\n",
              " tensor([[0.4820, 0.8198, 0.9971, 0.6984, 0.5675, 0.8352, 0.2056]]),\n",
              " tensor([[0.4820],\n",
              "         [0.8198],\n",
              "         [0.9971],\n",
              "         [0.6984],\n",
              "         [0.5675],\n",
              "         [0.8352],\n",
              "         [0.2056]]),\n",
              " tensor([[1.8542],\n",
              "         [1.9611],\n",
              "         [2.2884],\n",
              "         [3.0481],\n",
              "         [1.7067],\n",
              "         [2.5290],\n",
              "         [1.7989]]))"
            ]
          },
          "metadata": {},
          "execution_count": 5
        }
      ]
    },
    {
      "cell_type": "code",
      "source": [
        "torch.manual_seed(0)\n",
        "t = torch.rand(7, 7)\n",
        "t2 = torch.rand(1, 7)\n",
        "t3 = t2.transpose(1, 0)  # change order of dimensions\n",
        "t, t2, t3, torch.mm(t, t3)"
      ],
      "metadata": {
        "colab": {
          "base_uri": "https://localhost:8080/"
        },
        "id": "2-e--IzXEGY4",
        "outputId": "8e35602b-8eb6-4d2d-ef2d-cd6a25020403"
      },
      "execution_count": 6,
      "outputs": [
        {
          "output_type": "execute_result",
          "data": {
            "text/plain": [
              "(tensor([[0.4963, 0.7682, 0.0885, 0.1320, 0.3074, 0.6341, 0.4901],\n",
              "         [0.8964, 0.4556, 0.6323, 0.3489, 0.4017, 0.0223, 0.1689],\n",
              "         [0.2939, 0.5185, 0.6977, 0.8000, 0.1610, 0.2823, 0.6816],\n",
              "         [0.9152, 0.3971, 0.8742, 0.4194, 0.5529, 0.9527, 0.0362],\n",
              "         [0.1852, 0.3734, 0.3051, 0.9320, 0.1759, 0.2698, 0.1507],\n",
              "         [0.0317, 0.2081, 0.9298, 0.7231, 0.7423, 0.5263, 0.2437],\n",
              "         [0.5846, 0.0332, 0.1387, 0.2422, 0.8155, 0.7932, 0.2783]]),\n",
              " tensor([[0.4820, 0.8198, 0.9971, 0.6984, 0.5675, 0.8352, 0.2056]]),\n",
              " tensor([[0.4820],\n",
              "         [0.8198],\n",
              "         [0.9971],\n",
              "         [0.6984],\n",
              "         [0.5675],\n",
              "         [0.8352],\n",
              "         [0.2056]]),\n",
              " tensor([[1.8542],\n",
              "         [1.9611],\n",
              "         [2.2884],\n",
              "         [3.0481],\n",
              "         [1.7067],\n",
              "         [2.5290],\n",
              "         [1.7989]]))"
            ]
          },
          "metadata": {},
          "execution_count": 6
        }
      ]
    },
    {
      "cell_type": "code",
      "source": [
        "torch.manual_seed(0)\n",
        "torch.cuda.manual_seed_all(0)\n",
        "device = 'cuda' if torch.cuda.is_available() else 'cpu'\n",
        "t = torch.rand(7, 7, device=device)\n",
        "t2 = torch.rand(1, 7, device=device)\n",
        "t3 = t2.transpose(1, 0)  # change order of dimensions\n",
        "t, t2, t3, torch.mm(t, t3)"
      ],
      "metadata": {
        "colab": {
          "base_uri": "https://localhost:8080/"
        },
        "id": "FwEoU8kVEHeX",
        "outputId": "53a31ebb-37cc-4510-c6a5-76eb3f7145d9"
      },
      "execution_count": 11,
      "outputs": [
        {
          "output_type": "execute_result",
          "data": {
            "text/plain": [
              "(tensor([[0.3990, 0.5167, 0.0249, 0.9401, 0.9459, 0.7967, 0.4150],\n",
              "         [0.8203, 0.2290, 0.9096, 0.1183, 0.0752, 0.4092, 0.9601],\n",
              "         [0.2093, 0.1940, 0.8909, 0.4387, 0.3570, 0.5454, 0.8299],\n",
              "         [0.2099, 0.7684, 0.4290, 0.2117, 0.6606, 0.1654, 0.4250],\n",
              "         [0.9927, 0.6964, 0.2472, 0.7028, 0.7494, 0.9303, 0.0494],\n",
              "         [0.0750, 0.7223, 0.9478, 0.3647, 0.2215, 0.7784, 0.6391],\n",
              "         [0.2077, 0.7045, 0.9609, 0.0594, 0.3358, 0.0616, 0.7030]],\n",
              "        device='cuda:0'),\n",
              " tensor([[0.9722, 0.7910, 0.4690, 0.3300, 0.3345, 0.3783, 0.7640]],\n",
              "        device='cuda:0'),\n",
              " tensor([[0.9722],\n",
              "         [0.7910],\n",
              "         [0.4690],\n",
              "         [0.3300],\n",
              "         [0.3345],\n",
              "         [0.3783],\n",
              "         [0.7640]], device='cuda:0'),\n",
              " tensor([[2.0534],\n",
              "         [2.3578],\n",
              "         [1.8793],\n",
              "         [1.6912],\n",
              "         [2.5042],\n",
              "         [2.0659],\n",
              "         [1.9022]], device='cuda:0'))"
            ]
          },
          "metadata": {},
          "execution_count": 11
        }
      ]
    },
    {
      "cell_type": "code",
      "source": [
        "torch.manual_seed(1234)\n",
        "rt1 = torch.rand(2, 3).to(device=device)\n",
        "rt2 = torch.rand(2, 3).to(device=device)\n",
        "rt1, rt2"
      ],
      "metadata": {
        "colab": {
          "base_uri": "https://localhost:8080/"
        },
        "id": "G-jogSWDEzQn",
        "outputId": "6a8513b7-4118-4683-b251-683bd1ccbe36"
      },
      "execution_count": 15,
      "outputs": [
        {
          "output_type": "execute_result",
          "data": {
            "text/plain": [
              "(tensor([[0.0290, 0.4019, 0.2598],\n",
              "         [0.3666, 0.0583, 0.7006]], device='cuda:0'),\n",
              " tensor([[0.0518, 0.4681, 0.6738],\n",
              "         [0.3315, 0.7837, 0.5631]], device='cuda:0'))"
            ]
          },
          "metadata": {},
          "execution_count": 15
        }
      ]
    },
    {
      "cell_type": "code",
      "source": [
        "rt3 = rt2.transpose(1, 0)  # ready to matrix multiply\n",
        "mm = torch.mm(rt1, rt3)\n",
        "rt3, mm"
      ],
      "metadata": {
        "colab": {
          "base_uri": "https://localhost:8080/"
        },
        "id": "NiuMMWhrF4Jm",
        "outputId": "07eb5b22-557e-416b-e222-226e8d1f5e76"
      },
      "execution_count": 17,
      "outputs": [
        {
          "output_type": "execute_result",
          "data": {
            "text/plain": [
              "(tensor([[0.0518, 0.3315],\n",
              "         [0.4681, 0.7837],\n",
              "         [0.6738, 0.5631]], device='cuda:0'),\n",
              " tensor([[0.3647, 0.4709],\n",
              "         [0.5184, 0.5617]], device='cuda:0'))"
            ]
          },
          "metadata": {},
          "execution_count": 17
        }
      ]
    },
    {
      "cell_type": "code",
      "source": [
        "mm.min(), mm.max()"
      ],
      "metadata": {
        "colab": {
          "base_uri": "https://localhost:8080/"
        },
        "id": "huZ5GOTQGMnk",
        "outputId": "439d1465-df55-4473-e51b-4208738c4b57"
      },
      "execution_count": 18,
      "outputs": [
        {
          "output_type": "execute_result",
          "data": {
            "text/plain": [
              "(tensor(0.3647, device='cuda:0'), tensor(0.5617, device='cuda:0'))"
            ]
          },
          "metadata": {},
          "execution_count": 18
        }
      ]
    },
    {
      "cell_type": "code",
      "source": [
        "mm.argmin(), mm.argmax()"
      ],
      "metadata": {
        "colab": {
          "base_uri": "https://localhost:8080/"
        },
        "id": "EVpZF-bjGaX9",
        "outputId": "1f709a7c-4cf5-417e-a12c-7e6ed00504ea"
      },
      "execution_count": 19,
      "outputs": [
        {
          "output_type": "execute_result",
          "data": {
            "text/plain": [
              "(tensor(0, device='cuda:0'), tensor(3, device='cuda:0'))"
            ]
          },
          "metadata": {},
          "execution_count": 19
        }
      ]
    },
    {
      "cell_type": "code",
      "source": [
        "torch.manual_seed(7)\n",
        "rt1 = torch.rand(1, 1, 1, 10)\n",
        "rt2 = rt1.squeeze()\n",
        "rt1.shape, rt2.shape"
      ],
      "metadata": {
        "colab": {
          "base_uri": "https://localhost:8080/"
        },
        "id": "_E3NVFJZG1-G",
        "outputId": "5ded5016-2a9f-44b7-d865-ca4e3efb3780"
      },
      "execution_count": 22,
      "outputs": [
        {
          "output_type": "execute_result",
          "data": {
            "text/plain": [
              "(torch.Size([1, 1, 1, 10]), torch.Size([10]))"
            ]
          },
          "metadata": {},
          "execution_count": 22
        }
      ]
    },
    {
      "cell_type": "code",
      "source": [],
      "metadata": {
        "id": "3qc6CjsWHUbZ"
      },
      "execution_count": null,
      "outputs": []
    }
  ]
}