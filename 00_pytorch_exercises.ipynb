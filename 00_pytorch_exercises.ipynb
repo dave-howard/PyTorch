{
  "nbformat": 4,
  "nbformat_minor": 0,
  "metadata": {
    "colab": {
      "provenance": [],
      "authorship_tag": "ABX9TyPYgyJtyhSo7v7Mic/QzD3E",
      "include_colab_link": true
    },
    "kernelspec": {
      "name": "python3",
      "display_name": "Python 3"
    },
    "language_info": {
      "name": "python"
    }
  },
  "cells": [
    {
      "cell_type": "markdown",
      "metadata": {
        "id": "view-in-github",
        "colab_type": "text"
      },
      "source": [
        "<a href=\"https://colab.research.google.com/github/dave-howard/PyTorch/blob/main/00_pytorch_exercises.ipynb\" target=\"_parent\"><img src=\"https://colab.research.google.com/assets/colab-badge.svg\" alt=\"Open In Colab\"/></a>"
      ]
    },
    {
      "cell_type": "code",
      "execution_count": 1,
      "metadata": {
        "id": "ysW1GukTCfoP"
      },
      "outputs": [],
      "source": [
        "import torch"
      ]
    },
    {
      "cell_type": "markdown",
      "source": [
        "Create a random tensor with shape (7, 7)."
      ],
      "metadata": {
        "id": "uS3PqLoJCpHC"
      }
    },
    {
      "cell_type": "code",
      "source": [
        "t = torch.rand(7, 7)\n",
        "t"
      ],
      "metadata": {
        "colab": {
          "base_uri": "https://localhost:8080/"
        },
        "id": "-JbIJj3SCwQ4",
        "outputId": "0a0cf706-dbde-4fd4-ff3c-a3ff7c94b7a5"
      },
      "execution_count": 2,
      "outputs": [
        {
          "output_type": "execute_result",
          "data": {
            "text/plain": [
              "tensor([[0.6771, 0.6437, 0.0843, 0.7566, 0.1384, 0.4843, 0.3655],\n",
              "        [0.2865, 0.4903, 0.5472, 0.1984, 0.5829, 0.6936, 0.3564],\n",
              "        [0.1936, 0.5898, 0.4907, 0.8787, 0.7554, 0.3174, 0.2363],\n",
              "        [0.6021, 0.0911, 0.0048, 0.3376, 0.9671, 0.8771, 0.5789],\n",
              "        [0.4942, 0.6087, 0.4681, 0.5928, 0.2025, 0.2510, 0.5836],\n",
              "        [0.4638, 0.8036, 0.9768, 0.7730, 0.1415, 0.4306, 0.9431],\n",
              "        [0.3332, 0.8791, 0.6626, 0.3788, 0.9929, 0.2360, 0.9407]])"
            ]
          },
          "metadata": {},
          "execution_count": 2
        }
      ]
    },
    {
      "cell_type": "code",
      "source": [
        "t2 = torch.rand(1, 7)\n",
        "t3 = t2.transpose(1, 0)  # change order of dimensions\n",
        "t, t2, t3, torch.mm(t, t3)"
      ],
      "metadata": {
        "colab": {
          "base_uri": "https://localhost:8080/"
        },
        "id": "Js3c86VACzoX",
        "outputId": "3fb6787e-fc57-42cd-9d75-e5c35816bb59"
      },
      "execution_count": 11,
      "outputs": [
        {
          "output_type": "execute_result",
          "data": {
            "text/plain": [
              "(tensor([[0.6771, 0.6437, 0.0843, 0.7566, 0.1384, 0.4843, 0.3655],\n",
              "         [0.2865, 0.4903, 0.5472, 0.1984, 0.5829, 0.6936, 0.3564],\n",
              "         [0.1936, 0.5898, 0.4907, 0.8787, 0.7554, 0.3174, 0.2363],\n",
              "         [0.6021, 0.0911, 0.0048, 0.3376, 0.9671, 0.8771, 0.5789],\n",
              "         [0.4942, 0.6087, 0.4681, 0.5928, 0.2025, 0.2510, 0.5836],\n",
              "         [0.4638, 0.8036, 0.9768, 0.7730, 0.1415, 0.4306, 0.9431],\n",
              "         [0.3332, 0.8791, 0.6626, 0.3788, 0.9929, 0.2360, 0.9407]]),\n",
              " tensor([[0.4236, 0.8703, 0.4785, 0.4182, 0.7524, 0.0454, 0.9493]]),\n",
              " tensor([[0.4236],\n",
              "         [0.8703],\n",
              "         [0.4785],\n",
              "         [0.4182],\n",
              "         [0.7524],\n",
              "         [0.0454],\n",
              "         [0.9493]]),\n",
              " tensor([[1.6769],\n",
              "         [1.7012],\n",
              "         [2.0047],\n",
              "         [1.7948],\n",
              "         [1.9288],\n",
              "         [2.7079],\n",
              "         [3.0324]]))"
            ]
          },
          "metadata": {},
          "execution_count": 11
        }
      ]
    },
    {
      "cell_type": "code",
      "source": [
        "torch.manual_seed(0)\n",
        "t = torch.rand(7, 7)\n",
        "t2 = torch.rand(1, 7)\n",
        "t3 = t2.transpose(1, 0)  # change order of dimensions\n",
        "t, t2, t3, torch.mm(t, t3)"
      ],
      "metadata": {
        "colab": {
          "base_uri": "https://localhost:8080/"
        },
        "id": "g0eFpL6xDB-G",
        "outputId": "af9e4d0b-775a-43d1-b8b6-e87ff505bd51"
      },
      "execution_count": 12,
      "outputs": [
        {
          "output_type": "execute_result",
          "data": {
            "text/plain": [
              "(tensor([[0.4963, 0.7682, 0.0885, 0.1320, 0.3074, 0.6341, 0.4901],\n",
              "         [0.8964, 0.4556, 0.6323, 0.3489, 0.4017, 0.0223, 0.1689],\n",
              "         [0.2939, 0.5185, 0.6977, 0.8000, 0.1610, 0.2823, 0.6816],\n",
              "         [0.9152, 0.3971, 0.8742, 0.4194, 0.5529, 0.9527, 0.0362],\n",
              "         [0.1852, 0.3734, 0.3051, 0.9320, 0.1759, 0.2698, 0.1507],\n",
              "         [0.0317, 0.2081, 0.9298, 0.7231, 0.7423, 0.5263, 0.2437],\n",
              "         [0.5846, 0.0332, 0.1387, 0.2422, 0.8155, 0.7932, 0.2783]]),\n",
              " tensor([[0.4820, 0.8198, 0.9971, 0.6984, 0.5675, 0.8352, 0.2056]]),\n",
              " tensor([[0.4820],\n",
              "         [0.8198],\n",
              "         [0.9971],\n",
              "         [0.6984],\n",
              "         [0.5675],\n",
              "         [0.8352],\n",
              "         [0.2056]]),\n",
              " tensor([[1.8542],\n",
              "         [1.9611],\n",
              "         [2.2884],\n",
              "         [3.0481],\n",
              "         [1.7067],\n",
              "         [2.5290],\n",
              "         [1.7989]]))"
            ]
          },
          "metadata": {},
          "execution_count": 12
        }
      ]
    },
    {
      "cell_type": "code",
      "source": [
        "torch.manual_seed(0)\n",
        "t = torch.rand(7, 7)\n",
        "t2 = torch.rand(1, 7)\n",
        "t3 = t2.transpose(1, 0)  # change order of dimensions\n",
        "t, t2, t3, torch.mm(t, t3)"
      ],
      "metadata": {
        "colab": {
          "base_uri": "https://localhost:8080/"
        },
        "id": "2-e--IzXEGY4",
        "outputId": "73a79768-60df-4842-cd44-69e5f0365560"
      },
      "execution_count": 13,
      "outputs": [
        {
          "output_type": "execute_result",
          "data": {
            "text/plain": [
              "(tensor([[0.4963, 0.7682, 0.0885, 0.1320, 0.3074, 0.6341, 0.4901],\n",
              "         [0.8964, 0.4556, 0.6323, 0.3489, 0.4017, 0.0223, 0.1689],\n",
              "         [0.2939, 0.5185, 0.6977, 0.8000, 0.1610, 0.2823, 0.6816],\n",
              "         [0.9152, 0.3971, 0.8742, 0.4194, 0.5529, 0.9527, 0.0362],\n",
              "         [0.1852, 0.3734, 0.3051, 0.9320, 0.1759, 0.2698, 0.1507],\n",
              "         [0.0317, 0.2081, 0.9298, 0.7231, 0.7423, 0.5263, 0.2437],\n",
              "         [0.5846, 0.0332, 0.1387, 0.2422, 0.8155, 0.7932, 0.2783]]),\n",
              " tensor([[0.4820, 0.8198, 0.9971, 0.6984, 0.5675, 0.8352, 0.2056]]),\n",
              " tensor([[0.4820],\n",
              "         [0.8198],\n",
              "         [0.9971],\n",
              "         [0.6984],\n",
              "         [0.5675],\n",
              "         [0.8352],\n",
              "         [0.2056]]),\n",
              " tensor([[1.8542],\n",
              "         [1.9611],\n",
              "         [2.2884],\n",
              "         [3.0481],\n",
              "         [1.7067],\n",
              "         [2.5290],\n",
              "         [1.7989]]))"
            ]
          },
          "metadata": {},
          "execution_count": 13
        }
      ]
    },
    {
      "cell_type": "code",
      "source": [
        "torch.manual_seed(0)\n",
        "torch.cuda.seed_all(0)\n",
        "t = torch.rand(7, 7)\n",
        "t2 = torch.rand(1, 7)\n",
        "t3 = t2.transpose(1, 0)  # change order of dimensions\n",
        "t, t2, t3, torch.mm(t, t3)"
      ],
      "metadata": {
        "id": "FwEoU8kVEHeX"
      },
      "execution_count": null,
      "outputs": []
    }
  ]
}